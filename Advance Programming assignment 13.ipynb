{
 "cells": [
  {
   "cell_type": "markdown",
   "metadata": {},
   "source": [
    "1. Create a function that takes a list and string. The function should remove the letters in the string from the list, and return the list.\n",
    "\n",
    "Examples\n",
    "\n",
    "remove_letters([\"s\", \"t\", \"r\", \"i\", \"n\", \"g\", \"w\"], \"string\") ➞ [\"w\"]\n",
    "\n",
    "remove_letters([\"b\", \"b\", \"l\", \"l\", \"g\", \"n\", \"o\", \"a\", \"w\"], \"balloon\") ➞ [\"b\", \"g\", \"w\"]\n",
    "\n",
    "remove_letters([\"d\", \"b\", \"t\", \"e\", \"a\", \"i\"], \"edabit\") ➞ []\n",
    "\n",
    "2. A block sequence in three dimensions. We can write a formula for this one:\n",
    "\n",
    "\n",
    "\n",
    "\n",
    "\n",
    "\n",
    "\n",
    "\n",
    "\n",
    "\n",
    "Create a function that takes a number (step) as an argument and returns the amount of blocks in that step.\n",
    "\n",
    "Examples\n",
    "\n",
    "blocks(1) ➞ 5\n",
    "\n",
    "blocks(5) ➞ 39\n",
    "\n",
    "blocks(2) ➞ 12\n",
    "\n",
    "3. Create a function that subtracts one positive integer from another, without using any arithmetic operators such as -, %, /, +, etc.\n",
    "\n",
    "Examples\n",
    "\n",
    "my_sub(5, 9) ➞ 4\n",
    "\n",
    "my_sub(10, 30) ➞ 20\n",
    "\n",
    "my_sub(0, 0) ➞ 0\n",
    "\n",
    "4. Create a function that takes a string containing money in dollars and pounds sterling (seperated by comma) and returns the sum of dollar bills only, as an integer.\n",
    "\n",
    "For the input string:\n",
    "\n",
    "   - Each amount is prefixed by the currency symbol: $ for dollars and £ for pounds.\n",
    "   - Thousands are represented by the suffix k.\n",
    "\n",
    "i.e. $4k = $4,000 and £40k = £40,000\n",
    "\n",
    "Examples\n",
    "\n",
    "add_bill(\"d20,p40,p60,d50\") ➞ 20 + 50 = 70\n",
    "\n",
    "add_bill(\"p30,d20,p60,d150,p360\") ➞ 20  + 150 = 170\n",
    "\n",
    "add_bill(\"p30,d2k,p60,d200,p360\") ➞ 2 * 1000 + 200 = 2200\n",
    "\n",
    "\n",
    "\n"
   ]
  },
  {
   "cell_type": "code",
   "execution_count": 151,
   "metadata": {},
   "outputs": [
    {
     "name": "stdout",
     "output_type": "stream",
     "text": [
      "['w']\n",
      "['b', 'g', 'w']\n",
      "[]\n"
     ]
    }
   ],
   "source": [
    "# 1. Create a function that takes a list and string. The function should remove the letters in the string from the list, and return the list.\n",
    "\n",
    "# Examples\n",
    "\n",
    "# remove_letters([\"s\", \"t\", \"r\", \"i\", \"n\", \"g\", \"w\"], \"string\") ➞ [\"w\"]\n",
    "\n",
    "# remove_letters([\"b\", \"b\", \"l\", \"l\", \"g\", \"n\", \"o\", \"a\", \"w\"], \"balloon\") ➞ [\"b\", \"g\", \"w\"]\n",
    "\n",
    "# remove_letters([\"d\", \"b\", \"t\", \"e\", \"a\", \"i\"], \"edabit\") ➞ []\n",
    "\n",
    "\n",
    "def remove_letters(l,string):\n",
    "    res = []\n",
    "    res[:] = string\n",
    "    lst = []\n",
    "    for i in l:\n",
    "        if res:\n",
    "            if i in res:\n",
    "                index = res.index(i)\n",
    "                res.pop(index) \n",
    "            else:\n",
    "                lst.append(i)\n",
    "        else:\n",
    "            lst.append(i)\n",
    "\n",
    "    return lst\n",
    "        \n",
    "print(remove_letters([\"s\", \"t\", \"r\", \"i\", \"n\", \"g\", \"w\"], \"string\"))\n",
    "print(remove_letters([\"b\", \"b\", \"l\", \"l\", \"g\", \"n\", \"o\", \"a\", \"w\"], \"balloon\"))\n",
    "print(remove_letters([\"d\", \"b\", \"t\", \"e\", \"a\", \"i\"], \"edabit\"))\n"
   ]
  },
  {
   "cell_type": "code",
   "execution_count": 75,
   "metadata": {},
   "outputs": [
    {
     "name": "stdout",
     "output_type": "stream",
     "text": [
      "5.0\n",
      "39.0\n",
      "12.0\n"
     ]
    }
   ],
   "source": [
    "# Create a function that takes a number (step) as an argument and returns the amount of blocks in that step.\n",
    "\n",
    "# Examples\n",
    "\n",
    "# blocks(1) ➞ 5\n",
    "\n",
    "# blocks(5) ➞ 39\n",
    "\n",
    "# blocks(2) ➞ 12\n",
    "\n",
    "\n",
    "def blocks(n):\n",
    "    a=3\n",
    "    d=1\n",
    "    return ((n/2)*((2*a)+(n-1)*d))+(3*n)-1\n",
    "\n",
    "print(blocks(1)) \n",
    "print(blocks(5))\n",
    "print(blocks(2)) "
   ]
  },
  {
   "cell_type": "code",
   "execution_count": 79,
   "metadata": {},
   "outputs": [
    {
     "name": "stdout",
     "output_type": "stream",
     "text": [
      "4\n",
      "20\n",
      "0\n"
     ]
    }
   ],
   "source": [
    "# 3. Create a function that subtracts one positive integer from another, without using any arithmetic operators such as -, %, /, +, etc.\n",
    "\n",
    "# Examples\n",
    "\n",
    "# my_sub(5, 9) ➞ 4\n",
    "\n",
    "# my_sub(10, 30) ➞ 20\n",
    "\n",
    "# my_sub(0, 0) ➞ 0\n",
    "\n",
    "\n",
    "def my_sub(n1,n2):\n",
    "    return abs(n1.__sub__(n2))\n",
    "\n",
    "print(my_sub(5,9))\n",
    "print(my_sub(10, 30)) \n",
    "print(my_sub(0, 0)) \n",
    "\n",
    "    "
   ]
  },
  {
   "cell_type": "code",
   "execution_count": 144,
   "metadata": {},
   "outputs": [
    {
     "name": "stdout",
     "output_type": "stream",
     "text": [
      "70\n",
      "170\n",
      "2200\n"
     ]
    }
   ],
   "source": [
    "# 4. Create a function that takes a string containing money in dollars and pounds sterling (seperated by comma) and returns the sum of dollar bills only, as an integer.\n",
    "\n",
    "# For the input string:\n",
    "\n",
    "#    - Each amount is prefixed by the currency symbol: $ for dollars and £ for pounds.\n",
    "#    - Thousands are represented by the suffix k.\n",
    "\n",
    "# i.e. $4k = $4,000 and £40k = £40,000\n",
    "\n",
    "# Examples\n",
    "\n",
    "# add_bill(\"d20,p40,p60,d50\") ➞ 20 + 50 = 70\n",
    "\n",
    "# add_bill(\"p30,d20,p60,d150,p360\") ➞ 20  + 150 = 170\n",
    "\n",
    "# add_bill(\"p30,d2k,p60,d200,p360\") ➞ 2 * 1000 + 200 = 2200\n",
    "\n",
    "\n",
    "\n",
    "import re\n",
    "def add_bill(s):\n",
    "    k = s.split(\",\")\n",
    "    final = []\n",
    "    for i in k:\n",
    "        if 'd' in i:\n",
    "            final.append(i)\n",
    "    x1 = 0\n",
    "    for i in range(len(final)):\n",
    "        if 'k' not in final[i]:\n",
    "            x = re.search('(?<=d).*',final[i])\n",
    "            x1 += int(x.group())\n",
    "        else:\n",
    "            x = re.findall(r'\\d+', final[i])\n",
    "            if len(x)>1:\n",
    "                for i in x:\n",
    "                    x1 += 1000 * int(x[i])\n",
    "            else:\n",
    "                x1 += 1000 * int(x[0])\n",
    "    return x1\n",
    "\n",
    "print(add_bill(\"d20,p40,p60,d50\"))\n",
    "print(add_bill(\"p30,d20,p60,d150,p360\"))\n",
    "print(add_bill(\"p30,d2k,p60,d200,p360\"))"
   ]
  },
  {
   "cell_type": "code",
   "execution_count": 149,
   "metadata": {},
   "outputs": [
    {
     "name": "stdout",
     "output_type": "stream",
     "text": [
      "False\n",
      "[[1], [2], [3], [4]]\n",
      "True\n",
      "[5, 6, 9]\n",
      "[]\n"
     ]
    }
   ],
   "source": [
    "# 5. Create a function that flips a horizontal list into a vertical list, and a vertical list into a horizontal list.\n",
    "\n",
    "# In other words, take an 1 x n list (1 row + n columns) and flip it into a n x 1 list (n rows and 1 column), and vice versa.\n",
    "\n",
    "# Examples\n",
    "\n",
    "# flip_list([1, 2, 3, 4]) ➞ [[1], [2], [3], [4]]\n",
    "# # Take a horizontal list and flip it vertical.\n",
    "\n",
    "# flip_list([[5], [6], [9]]) ➞ [5, 6, 9]\n",
    "# # Take a vertical list and flip it horizontal.\n",
    "\n",
    "# flip_list([]) ➞ []\n",
    "\n",
    "\n",
    "def flip_list(lst):\n",
    "    if not lst:\n",
    "        return lst\n",
    "\n",
    "    is_vertical = isinstance(lst[0], list)\n",
    "    print(is_vertical)\n",
    "    \n",
    "    if is_vertical:\n",
    "        return [el[0] for el in lst]\n",
    "    \n",
    "    return [[el] for el in lst]\n",
    "\n",
    "print(flip_list([1, 2, 3, 4]))\n",
    "print(flip_list([[5], [6], [9]]))\n",
    "print(flip_list([]))"
   ]
  },
  {
   "cell_type": "code",
   "execution_count": null,
   "metadata": {},
   "outputs": [],
   "source": [
    "l = [[5], [6], [9]]\n",
    "\n",
    "l."
   ]
  }
 ],
 "metadata": {
  "interpreter": {
   "hash": "34dfee18d5f4a96df9a8fcc719c91cf50e8ed50de2aa108bf45cd20982063274"
  },
  "kernelspec": {
   "display_name": "Python 3.8.8 64-bit ('base': conda)",
   "name": "python3"
  },
  "language_info": {
   "codemirror_mode": {
    "name": "ipython",
    "version": 3
   },
   "file_extension": ".py",
   "mimetype": "text/x-python",
   "name": "python",
   "nbconvert_exporter": "python",
   "pygments_lexer": "ipython3",
   "version": "3.8.8"
  },
  "orig_nbformat": 4
 },
 "nbformat": 4,
 "nbformat_minor": 2
}
