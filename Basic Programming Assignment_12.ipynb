{
 "cells": [
  {
   "cell_type": "markdown",
   "metadata": {},
   "source": [
    "# Write a Python program to Extract Unique values dictionary values?"
   ]
  },
  {
   "cell_type": "code",
   "execution_count": 9,
   "metadata": {},
   "outputs": [
    {
     "name": "stdout",
     "output_type": "stream",
     "text": [
      "unique dictionary values are: ['God', 'Lucifer', 'Satan', 'Heaven', 'Hell']\n"
     ]
    }
   ],
   "source": [
    "dictionary = {'Name':['God','Lucifer','Satan'], 'Place':['Heaven','Hell','Hell']}\n",
    "l = []\n",
    "for i in dictionary.values():\n",
    "    for j in i:\n",
    "        if j not in l:\n",
    "            l.append(j)\n",
    "print(\"unique dictionary values are: {}\".format(l))"
   ]
  },
  {
   "cell_type": "markdown",
   "metadata": {},
   "source": [
    "# Write a Python program to find the sum of all items in a dictionary?"
   ]
  },
  {
   "cell_type": "code",
   "execution_count": 11,
   "metadata": {},
   "outputs": [
    {
     "name": "stdout",
     "output_type": "stream",
     "text": [
      "551\n"
     ]
    }
   ],
   "source": [
    "dictionary = {'Number_1':[1,2,34,67,89], 'Number_2':[94,76,89,78,21]}\n",
    "count = 0\n",
    "for i in dictionary.values():\n",
    "    for j in i:\n",
    "        count = count+j\n",
    "print(count)"
   ]
  },
  {
   "cell_type": "markdown",
   "metadata": {},
   "source": [
    "# Write a Python program to Merging two Dictionaries?"
   ]
  },
  {
   "cell_type": "code",
   "execution_count": 23,
   "metadata": {},
   "outputs": [
    {
     "name": "stdout",
     "output_type": "stream",
     "text": [
      "The first dictionary is:  {'Name': ['God', 'Lucifer', 'Satan'], 'Place': ['Heaven', 'Hell', 'Hell']}\n",
      "The second dictionary is:  {'Number_1': [1, 2, 34, 67, 89], 'Number_2': [94, 76, 89, 78, 21]}\n",
      "The final dictionary after merging is:  {'Name': ['God', 'Lucifer', 'Satan'], 'Place': ['Heaven', 'Hell', 'Hell'], 'Number_1': [1, 2, 34, 67, 89], 'Number_2': [94, 76, 89, 78, 21]}\n"
     ]
    }
   ],
   "source": [
    "dictionary1 = {'Name':['God','Lucifer','Satan'], 'Place':['Heaven','Hell','Hell']}\n",
    "dictionary2 = {'Number_1':[1,2,34,67,89], 'Number_2':[94,76,89,78,21]}\n",
    "dictionary3 = {**dictionary1,**dictionary2}\n",
    "print(\"The first dictionary is: \",dictionary1)\n",
    "print(\"The second dictionary is: \",dictionary2)\n",
    "print(\"The final dictionary after merging is: \",dictionary3)"
   ]
  },
  {
   "cell_type": "markdown",
   "metadata": {},
   "source": [
    "# Write a Python program to convert key-values list to flat dictionary?"
   ]
  },
  {
   "cell_type": "code",
   "execution_count": 124,
   "metadata": {},
   "outputs": [
    {
     "name": "stdout",
     "output_type": "stream",
     "text": [
      "{'God': 'Heaven', 'Lucifer': 'Hell', 'Satan': 'Hell'}\n"
     ]
    }
   ],
   "source": [
    "from itertools import product\n",
    "dictionary1 = {'Name':['God','Lucifer','Satan'], 'Place':['Heaven','Hell','Hell']}\n",
    "flat = zip(dictionary1['Name'],dictionary1['Place'])\n",
    "l1 = dict(flat)\n",
    "print(l1)"
   ]
  },
  {
   "cell_type": "markdown",
   "metadata": {},
   "source": [
    "# Write a Python program to insertion at the beginning in OrderedDict?"
   ]
  },
  {
   "cell_type": "code",
   "execution_count": 128,
   "metadata": {},
   "outputs": [
    {
     "name": "stdout",
     "output_type": "stream",
     "text": [
      "Original OrderedDict:\n",
      "OrderedDict([('color1', 'Red'), ('color2', 'Green'), ('color3', 'Blue')])\n",
      "Insert an element at the beginning of the said OrderedDict:\n",
      "\n",
      "Updated OrderedDict:\n",
      "OrderedDict([('color4', 'Orange'), ('color1', 'Red'), ('color2', 'Green'), ('color3', 'Blue')])\n"
     ]
    }
   ],
   "source": [
    "from collections import OrderedDict\n",
    "orderdict1 = OrderedDict([('color1', 'Red'), ('color2', 'Green'), ('color3', 'Blue')]) \n",
    "print(\"Original OrderedDict:\")\n",
    "print(orderdict1)\n",
    "print(\"Insert an element at the beginning of the said OrderedDict:\")\n",
    "orderdict1.update({'color4':'Orange'})\n",
    "orderdict1.move_to_end('color4', last = False)\n",
    "print(\"\\nUpdated OrderedDict:\")\n",
    "print(orderdict1)\n"
   ]
  },
  {
   "cell_type": "markdown",
   "metadata": {},
   "source": [
    "# Write a Python program to check order of character in string using OrderedDict()?"
   ]
  },
  {
   "cell_type": "code",
   "execution_count": 142,
   "metadata": {},
   "outputs": [
    {
     "name": "stdout",
     "output_type": "stream",
     "text": [
      "The string is \n",
      "Hi Tony Stark\n",
      "The input pattern is \n",
      "ta\n",
      "OrderedDict([('H', None), ('i', None), (' ', None), ('T', None), ('o', None), ('n', None), ('y', None), ('S', None), ('t', None), ('a', None), ('r', None), ('k', None)])\n",
      "ta\n",
      "H None\n",
      "i None\n",
      "  None\n",
      "T None\n",
      "o None\n",
      "n None\n",
      "y None\n",
      "S None\n",
      "t None\n",
      "a None\n",
      "The order of pattern is correct\n"
     ]
    }
   ],
   "source": [
    "from collections import OrderedDict\n",
    "def check_order(my_input, my_pattern):\n",
    "    my_dict = OrderedDict.fromkeys(my_input)\n",
    "    print(my_dict)\n",
    "    print(my_pattern)\n",
    "    pattern_length = 0\n",
    "    for key,value in my_dict.items():\n",
    "        print(key,value)\n",
    "        if (key == my_pattern[pattern_length]):\n",
    "            pattern_length = pattern_length + 1\n",
    "\n",
    "        if (pattern_length == (len(my_pattern))):\n",
    "            return 'The order of pattern is correct'\n",
    "\n",
    "    return 'The order of pattern is incorrect'\n",
    "\n",
    "my_input = 'Hi Tony Stark'\n",
    "input_pattern = 'ta'\n",
    "print(\"The string is \")\n",
    "print(my_input)\n",
    "print(\"The input pattern is \")\n",
    "print(input_pattern)\n",
    "print(check_order(my_input,input_pattern))"
   ]
  },
  {
   "cell_type": "markdown",
   "metadata": {},
   "source": [
    "# Write a Python program to sort Python Dictionaries by Key or Value?"
   ]
  },
  {
   "cell_type": "code",
   "execution_count": 161,
   "metadata": {},
   "outputs": [
    {
     "name": "stdout",
     "output_type": "stream",
     "text": [
      "original dictionary is : {1: 2, 2: 56, 5: 12, 4: 24, 6: 18, 3: 323}\n",
      "\n",
      "\n",
      "sorted on basis of values: [2, 12, 18, 24, 56, 323]\n",
      "\n",
      "\n",
      "sorted on basis of keys [1, 2, 3, 4, 5, 6] "
     ]
    }
   ],
   "source": [
    "key_value= {}\n",
    " \n",
    "key_value[1] = 2\n",
    "key_value[2] = 56     \n",
    "key_value[5] = 12\n",
    "key_value[4] = 24\n",
    "key_value[6] = 18     \n",
    "key_value[3] = 323\n",
    "print(\"original dictionary is :\",key_value)\n",
    "print('\\n')\n",
    "l1 = []\n",
    "for i in sorted(key_value.values()):\n",
    "    l1.append(i)\n",
    "print(\"sorted on basis of values:\",l1)\n",
    "print('\\n')\n",
    "l2 = []\n",
    "for i in sorted(key_value.keys()):\n",
    "    l2.append(i)\n",
    "print(\"sorted on basis of keys\",l2,end=' ')"
   ]
  }
 ],
 "metadata": {
  "kernelspec": {
   "display_name": "Python 3",
   "language": "python",
   "name": "python3"
  },
  "language_info": {
   "codemirror_mode": {
    "name": "ipython",
    "version": 3
   },
   "file_extension": ".py",
   "mimetype": "text/x-python",
   "name": "python",
   "nbconvert_exporter": "python",
   "pygments_lexer": "ipython3",
   "version": "3.8.5"
  }
 },
 "nbformat": 4,
 "nbformat_minor": 4
}
