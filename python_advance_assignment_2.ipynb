{
 "cells": [
  {
   "cell_type": "markdown",
   "metadata": {},
   "source": [
    "Q1. What is the relationship between classes and modules?\n",
    "Ans. Modules are collections of methods as constants and they cannot generate instances whereas classes also are collections of methods as constants  but they can also generate instances and have per instance state.\n",
    "\n",
    "\n",
    "\n",
    "Q2. How do you make instances and classes?\n",
    "Ans. To create instances of a class, you call the class using class name and pass in whatever arguments its __init__ method accepts.\n",
    "\n",
    "\n",
    "Q3. Where and how should be class attributes created?\n",
    "Ans. Class attributes are attributes which are owned by the class itself. They will be shared by all the instances of the class. Therefore they have the same value for every instance. We define class attributes outside all the methods, usually they are placed at the top, right below the class header.\n",
    "\n",
    "\n",
    "Q4. Where and how are instance attributes created?\n",
    "Ans. Instance attributes are defined in the constructor. Defined directly inside a class. Defined inside a constructor using the self parameter. Shared across all objects.\n",
    "\n",
    "\n",
    "Q5. What does the term \"self\" in a Python class mean?\n",
    "Ans. self represents the instance of the class. By using the “self” keyword we can access the attributes and methods of the class in python. It binds the attributes with the given arguments.\n",
    "\n",
    "\n",
    "\n",
    "Q6. How does a Python class handle operator overloading?\n",
    "Ans. To perform operator overloading, Python provides some special function or magic function that is automatically invoked when it is associated with that particular operator\n",
    "\n",
    "\n",
    "Q7. When do you consider allowing operator overloading of your classes?\n",
    "Ans. It allows you to provide an intuitive interface to users of your class, plus makes it possible for templates to work equally well with classes and built-in/intrinsic types.\n",
    "\n",
    "\n",
    "Q8. What is the most popular form of operator overloading?\n",
    "Ans. A very popular and convenient example is the Addition (+) operator. Just think how the '+' operator operates on two numbers and the same operator operates on two strings. It performs “Addition” on numbers whereas it performs “Concatenation” on strings.\n",
    "\n",
    "\n",
    "Q9. What are the two most important concepts to grasp in order to comprehend Python OOP code?\n",
    "Ans. the two most important concepts to grasp in order to comprehend Python OOP code are inheritance and polymorphism."
   ]
  }
 ],
 "metadata": {
  "language_info": {
   "name": "python"
  },
  "orig_nbformat": 4
 },
 "nbformat": 4,
 "nbformat_minor": 2
}
