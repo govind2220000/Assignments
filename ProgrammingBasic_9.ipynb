{
 "cells": [
  {
   "cell_type": "markdown",
   "metadata": {},
   "source": [
    "# Write a Python program to check if the given number is a Disarium Number?"
   ]
  },
  {
   "cell_type": "code",
   "execution_count": 6,
   "metadata": {},
   "outputs": [
    {
     "name": "stdout",
     "output_type": "stream",
     "text": [
      "Enter number to check: 135\n"
     ]
    },
    {
     "data": {
      "text/plain": [
       "True"
      ]
     },
     "execution_count": 6,
     "metadata": {},
     "output_type": "execute_result"
    }
   ],
   "source": [
    "def is_disarium(l):\n",
    "    \n",
    "    l1 = str(l)\n",
    "    sum = 0\n",
    "    for pos,i in enumerate(l1,start=1):\n",
    "        sum = sum + ((int(i))**pos)\n",
    "    if sum == int(l1):\n",
    "        return True\n",
    "    else:\n",
    "        return False\n",
    "\n",
    "l = int(input(\"Enter number to check: \"))\n",
    "is_disarium(l)\n",
    "    "
   ]
  },
  {
   "cell_type": "markdown",
   "metadata": {},
   "source": [
    "# Write a Python program to print all disarium numbers between 1 to 100?"
   ]
  },
  {
   "cell_type": "code",
   "execution_count": 31,
   "metadata": {},
   "outputs": [
    {
     "name": "stdout",
     "output_type": "stream",
     "text": [
      "Enter stating range: 1\n",
      "Enter ending range: 100\n",
      "1\n",
      "2\n",
      "3\n",
      "4\n",
      "5\n",
      "6\n",
      "7\n",
      "8\n",
      "9\n",
      "89\n"
     ]
    }
   ],
   "source": [
    "def disarium(l):\n",
    "    \n",
    "    l1 = str(l)\n",
    "    l2 = []\n",
    "    sum = 0\n",
    "    for pos,i in enumerate(l1,start=1):\n",
    "        sum = sum + ((int(i))**pos)\n",
    "    if sum == int(l1):\n",
    "        l2.append(sum)\n",
    "    return l2\n",
    "\n",
    "n1 = int(input(\"Enter stating range: \"))\n",
    "n2 = int(input(\"Enter ending range: \"))\n",
    "for i in range(n1,n2+1):\n",
    "    x = disarium(i)\n",
    "    for j in x:\n",
    "        print(j)\n",
    "        \n",
    "    \n",
    "    "
   ]
  },
  {
   "cell_type": "markdown",
   "metadata": {},
   "source": [
    "# Write a Python program to check if the given number is Happy Number?"
   ]
  },
  {
   "cell_type": "code",
   "execution_count": 30,
   "metadata": {},
   "outputs": [
    {
     "name": "stdout",
     "output_type": "stream",
     "text": [
      "Enter a number to check: 82\n",
      "The number is being checked\n",
      "82 is a happy number\n"
     ]
    }
   ],
   "source": [
    "def check_happy_num(my_num):\n",
    "    remaining = sum_val = 0\n",
    "    \n",
    "    while(my_num > 0):\n",
    "        remaining = my_num%10\n",
    "        sum_val = sum_val + (remaining*remaining)\n",
    "        my_num = my_num//10\n",
    "    return sum_val;\n",
    "my_num = int(input(\"Enter a number to check: \"))\n",
    "my_result = my_num\n",
    "while(my_result != 1 and my_result != 4):\n",
    "    my_result = check_happy_num(my_result);\n",
    "print(\"The number is being checked\")\n",
    "if(my_result == 1):\n",
    "    print(str(my_num) + \" is a happy number\");\n",
    "elif(my_result == 4):\n",
    "    print(str(my_num) + \" isn't a happy number\");"
   ]
  },
  {
   "cell_type": "markdown",
   "metadata": {},
   "source": [
    "# Write a Python program to print all happy numbers between 1 and 100?"
   ]
  },
  {
   "cell_type": "code",
   "execution_count": 36,
   "metadata": {
    "scrolled": true
   },
   "outputs": [
    {
     "name": "stdout",
     "output_type": "stream",
     "text": [
      "Enter stating range: 1\n",
      "Enter ending range: 100\n",
      "List of happy numbers between 1 and 100: \n",
      "1\n",
      " \n",
      "7\n",
      " \n",
      "10\n",
      " \n",
      "13\n",
      " \n",
      "19\n",
      " \n",
      "23\n",
      " \n",
      "28\n",
      " \n",
      "31\n",
      " \n",
      "32\n",
      " \n",
      "44\n",
      " \n",
      "49\n",
      " \n",
      "68\n",
      " \n",
      "70\n",
      " \n",
      "79\n",
      " \n",
      "82\n",
      " \n",
      "86\n",
      " \n",
      "91\n",
      " \n",
      "94\n",
      " \n",
      "97\n",
      " \n",
      "100\n",
      " \n"
     ]
    }
   ],
   "source": [
    "n1 = int(input(\"Enter stating range: \"))\n",
    "n2 = int(input(\"Enter ending range: \"))\n",
    "\n",
    "\n",
    "print(\"List of happy numbers between 1 and 100: \");    \n",
    "for i in range(n1, n2+1):    \n",
    "    result = i;    \n",
    "        \n",
    "    #Happy number always ends with 1 and     \n",
    "    #unhappy number ends in a cycle of repeating numbers which contains 4    \n",
    "    while(result != 1 and result != 4):    \n",
    "        result = check_happy_num(result);    \n",
    "        \n",
    "    if(result == 1):    \n",
    "        print(i),    \n",
    "        print(\" \"),    "
   ]
  },
  {
   "cell_type": "markdown",
   "metadata": {},
   "source": [
    "# Write a Python program to determine whether the given number is a Harshad Number?"
   ]
  },
  {
   "cell_type": "code",
   "execution_count": 52,
   "metadata": {},
   "outputs": [
    {
     "name": "stdout",
     "output_type": "stream",
     "text": [
      "Enter the number: 18\n",
      "Yes\n"
     ]
    }
   ],
   "source": [
    "def checkHarshad(n):\n",
    "    st = str(n)\n",
    "    sum = 0\n",
    "    length = len(st)\n",
    "\n",
    "    for i in st:\n",
    "        sum = sum + int(i)\n",
    "    if (n % sum == 0):\n",
    "        return \"Yes\"\n",
    "    else:\n",
    "        return \"No\"\n",
    "\n",
    "\n",
    "\n",
    "number = int(input(\"Enter the number: \"))\n",
    "print(checkHarshad(number))\n",
    "\n"
   ]
  },
  {
   "cell_type": "markdown",
   "metadata": {},
   "source": [
    "# Write a Python program to print all pronic numbers between 1 and 100"
   ]
  },
  {
   "cell_type": "code",
   "execution_count": 61,
   "metadata": {},
   "outputs": [
    {
     "name": "stdout",
     "output_type": "stream",
     "text": [
      "Enter stating range: 1\n",
      "Enter ending range: 100\n",
      "Pronic numbers between 1 and 100: \n",
      "2\n",
      " \n",
      "6\n",
      " \n",
      "12\n",
      " \n",
      "20\n",
      " \n",
      "30\n",
      " \n",
      "42\n",
      " \n",
      "56\n",
      " \n",
      "72\n",
      " \n",
      "90\n",
      " \n"
     ]
    }
   ],
   "source": [
    "def isPronicNumber(num):    \n",
    "    flag = False;    \n",
    "        \n",
    "    for j in range(1, num+1):\n",
    "        if((j*(j+1)) == num):    \n",
    "            flag = True;    \n",
    "            break;    \n",
    "    return flag;   \n",
    "\n",
    "n1 = int(input(\"Enter stating range: \"))\n",
    "n2 = int(input(\"Enter ending range: \"))\n",
    "     \n",
    "print(\"Pronic numbers between {} and {}: \".format(n1,n2));    \n",
    "for i in range(n1, n2+1):    \n",
    "    if(isPronicNumber(i)):    \n",
    "        print(i),    \n",
    "        print(\" \"),    "
   ]
  }
 ],
 "metadata": {
  "kernelspec": {
   "display_name": "Python 3",
   "language": "python",
   "name": "python3"
  },
  "language_info": {
   "codemirror_mode": {
    "name": "ipython",
    "version": 3
   },
   "file_extension": ".py",
   "mimetype": "text/x-python",
   "name": "python",
   "nbconvert_exporter": "python",
   "pygments_lexer": "ipython3",
   "version": "3.8.5"
  }
 },
 "nbformat": 4,
 "nbformat_minor": 4
}
