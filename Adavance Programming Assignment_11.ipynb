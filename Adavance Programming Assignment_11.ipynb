{
 "cells": [
  {
   "cell_type": "code",
   "execution_count": null,
   "source": [
    "1. Create a function that takes a list and returns a new list containing only prime numbers.\r\n",
    "\r\n",
    "Examples\r\n",
    "\r\n",
    "filter_primes([7, 9, 3, 9, 10, 11, 27]) ➞ [7, 3, 11]\r\n",
    "\r\n",
    "filter_primes([10007, 1009, 1007, 27, 147, 77, 1001, 70]) ➞ [10007, 1009]\r\n",
    "\r\n",
    "filter_primes([1009, 10, 10, 10, 3, 33, 9, 4, 1, 61, 63, 69, 1087, 1091, 1093, 1097]) ➞ [1009, 3, 61, 1087, 1091, 1093, 1097]\r\n"
   ],
   "outputs": [],
   "metadata": {}
  },
  {
   "cell_type": "code",
   "execution_count": 22,
   "source": [
    "def filter_primes(lst):\r\n",
    "    lst1 = []\r\n",
    "    for i in lst:\r\n",
    "        if i > 1:\r\n",
    "            for j in range(2,i):\r\n",
    "                if i%j == 0:\r\n",
    "                    break\r\n",
    "            else:\r\n",
    "                lst1.append(i)\r\n",
    "    return lst1"
   ],
   "outputs": [],
   "metadata": {}
  },
  {
   "cell_type": "code",
   "execution_count": 23,
   "source": [
    "filter_primes([7, 9, 3, 9, 10, 11, 27])"
   ],
   "outputs": [
    {
     "output_type": "execute_result",
     "data": {
      "text/plain": [
       "[7, 3, 11]"
      ]
     },
     "metadata": {},
     "execution_count": 23
    }
   ],
   "metadata": {}
  },
  {
   "cell_type": "code",
   "execution_count": 24,
   "source": [
    "filter_primes([10007, 1009, 1007, 27, 147, 77, 1001, 70])"
   ],
   "outputs": [
    {
     "output_type": "execute_result",
     "data": {
      "text/plain": [
       "[10007, 1009]"
      ]
     },
     "metadata": {},
     "execution_count": 24
    }
   ],
   "metadata": {}
  },
  {
   "cell_type": "code",
   "execution_count": 25,
   "source": [
    "filter_primes([1009, 10, 10, 10, 3, 33, 9, 4, 1, 61, 63, 69, 1087, 1091, 1093, 1097])"
   ],
   "outputs": [
    {
     "output_type": "execute_result",
     "data": {
      "text/plain": [
       "[1009, 3, 61, 1087, 1091, 1093, 1097]"
      ]
     },
     "metadata": {},
     "execution_count": 25
    }
   ],
   "metadata": {}
  },
  {
   "cell_type": "code",
   "execution_count": null,
   "source": [
    "2. Once a water balloon pops, is soaks the area around it. The ground gets drier the further away you travel from the balloon.\r\n",
    "\r\n",
    "The effect of a water balloon popping can be modeled using a list. Create a function that takes a list which takes the pre-pop state and returns the state after the balloon is popped. The pre-pop state will contain at most a single balloon, whose size is represented by the only non-zero element.\r\n",
    "\r\n",
    "Examples\r\n",
    "\r\n",
    "pop([0, 0, 0, 0, 4, 0, 0, 0, 0]) ➞ [0, 1, 2, 3, 4, 3, 2, 1, 0]\r\n",
    "\r\n",
    "pop([0, 0, 0, 3, 0, 0, 0]) ➞ [0, 1, 2, 3, 2, 1, 0]\r\n",
    "\r\n",
    "pop([0, 0, 2, 0, 0]) ➞ [0, 1, 2, 1, 0]\r\n",
    "\r\n",
    "pop([0]) ➞ [0]\r\n"
   ],
   "outputs": [],
   "metadata": {}
  },
  {
   "cell_type": "code",
   "execution_count": 44,
   "source": [
    "def pop(lst):\r\n",
    "    length = int(len(lst)/2)\r\n",
    "    lst_after = [0 for i in range(len(lst))]\r\n",
    "    lst_after[length] = lst[length]\r\n",
    "    count =  1\r\n",
    "    for i in range(length-1,-1, -1):\r\n",
    "        lst_after[i] = lst[length] - count \r\n",
    "        count += 1\r\n",
    "    count = 1\r\n",
    "    for i in range(length+1,len(lst)):\r\n",
    "        lst_after[i] = lst[length] - count \r\n",
    "        count += 1\r\n",
    "    return lst_after\r\n",
    "    "
   ],
   "outputs": [],
   "metadata": {}
  },
  {
   "cell_type": "code",
   "execution_count": 46,
   "source": [
    "pop([0, 0, 0, 0, 4, 0, 0, 0, 0])"
   ],
   "outputs": [
    {
     "output_type": "execute_result",
     "data": {
      "text/plain": [
       "[0, 1, 2, 3, 4, 3, 2, 1, 0]"
      ]
     },
     "metadata": {},
     "execution_count": 46
    }
   ],
   "metadata": {}
  },
  {
   "cell_type": "code",
   "execution_count": 47,
   "source": [
    "pop([0, 0, 0, 3, 0, 0, 0])"
   ],
   "outputs": [
    {
     "output_type": "execute_result",
     "data": {
      "text/plain": [
       "[0, 1, 2, 3, 2, 1, 0]"
      ]
     },
     "metadata": {},
     "execution_count": 47
    }
   ],
   "metadata": {}
  },
  {
   "cell_type": "code",
   "execution_count": 48,
   "source": [
    "pop([0, 0, 2, 0, 0])"
   ],
   "outputs": [
    {
     "output_type": "execute_result",
     "data": {
      "text/plain": [
       "[0, 1, 2, 1, 0]"
      ]
     },
     "metadata": {},
     "execution_count": 48
    }
   ],
   "metadata": {}
  },
  {
   "cell_type": "code",
   "execution_count": 49,
   "source": [
    "pop([0])"
   ],
   "outputs": [
    {
     "output_type": "execute_result",
     "data": {
      "text/plain": [
       "[0]"
      ]
     },
     "metadata": {},
     "execution_count": 49
    }
   ],
   "metadata": {}
  },
  {
   "cell_type": "markdown",
   "source": [
    "3. \"Loves me, loves me not\" is a traditional game in which a person plucks off all the petals of a flower one by one, saying the phrase \"Loves me\" and \"Loves me not\" when determining whether the one that they love, loves them back.\n",
    "\n",
    "Given a number of petals, return a string which repeats the phrases \"Loves me\" and \"Loves me not\" for every alternating petal, and return the last phrase in all caps. Remember to put a comma and space between phrases.\n",
    "\n",
    "Examples\n",
    "\n",
    "loves_me(3) ➞ \"Loves me, Loves me not, LOVES ME\"\n",
    "\n",
    "loves_me(6) ➞ \"Loves me, Loves me not, Loves me, Loves me not, Loves me, LOVES ME NOT\"\n",
    "\n",
    "loves_me(1) ➞ \"LOVES ME\"\n"
   ],
   "metadata": {}
  },
  {
   "cell_type": "code",
   "execution_count": 151,
   "source": [
    "def loves_me(n):\r\n",
    "    empty_str = \"\"\r\n",
    "    if n == 1:\r\n",
    "        empty_str =empty_str+ 'LOVES ME'\r\n",
    "        return empty_str\r\n",
    "    for j,i in enumerate(range(1,n+1),start=1):\r\n",
    "        if i % 2 == 0:\r\n",
    "            empty_str = empty_str + 'Loves me not,'\r\n",
    "        if i % 2 != 0:\r\n",
    "            empty_str = empty_str + 'Loves me,'\r\n",
    "\r\n",
    "    final_lst = empty_str.split(sep=',')\r\n",
    "    del final_lst[-1]\r\n",
    "    final_lst[-1] = final_lst[-1].upper()\r\n",
    "    str1 = \"\"\r\n",
    "    for i,ele in enumerate(final_lst):\r\n",
    "        if i == len(final_lst) - 1:\r\n",
    "            str1 += ele \r\n",
    "        else:\r\n",
    "            str1 += ele + ','\r\n",
    "    return str1"
   ],
   "outputs": [],
   "metadata": {}
  },
  {
   "cell_type": "markdown",
   "source": [],
   "metadata": {}
  },
  {
   "cell_type": "code",
   "execution_count": 152,
   "source": [
    "loves_me(3)"
   ],
   "outputs": [
    {
     "output_type": "execute_result",
     "data": {
      "text/plain": [
       "'Loves me,Loves me not,LOVES ME'"
      ]
     },
     "metadata": {},
     "execution_count": 152
    }
   ],
   "metadata": {}
  },
  {
   "cell_type": "code",
   "execution_count": 153,
   "source": [
    "loves_me(6)"
   ],
   "outputs": [
    {
     "output_type": "execute_result",
     "data": {
      "text/plain": [
       "'Loves me,Loves me not,Loves me,Loves me not,Loves me,LOVES ME NOT'"
      ]
     },
     "metadata": {},
     "execution_count": 153
    }
   ],
   "metadata": {}
  },
  {
   "cell_type": "code",
   "execution_count": 154,
   "source": [
    "loves_me(1)"
   ],
   "outputs": [
    {
     "output_type": "execute_result",
     "data": {
      "text/plain": [
       "'LOVES ME'"
      ]
     },
     "metadata": {},
     "execution_count": 154
    }
   ],
   "metadata": {}
  },
  {
   "cell_type": "code",
   "execution_count": 155,
   "source": [
    "loves_me(9)"
   ],
   "outputs": [
    {
     "output_type": "execute_result",
     "data": {
      "text/plain": [
       "'Loves me,Loves me not,Loves me,Loves me not,Loves me,Loves me not,Loves me,Loves me not,LOVES ME'"
      ]
     },
     "metadata": {},
     "execution_count": 155
    }
   ],
   "metadata": {}
  },
  {
   "cell_type": "markdown",
   "source": [
    "4. Write a function that sorts each string in a list by the letter in alphabetic ascending order (a-z).\r\n",
    "\r\n",
    "Examples\r\n",
    "\r\n",
    "sort_by_letter([\"932c\", \"832u32\", \"2344b\"])\r\n",
    "➞ [\"2344b\", \"932c\", \"832u32\"]\r\n",
    "\r\n",
    "sort_by_letter([\"99a\", \"78b\", \"c2345\", \"11d\"])\r\n",
    "➞ [\"99a\", \"78b\", \"c2345\", \"11d\"]\r\n",
    "\r\n",
    "sort_by_letter([\"572z\", \"5y5\", \"304q2\"])\r\n",
    "➞ [\"304q2\", \"5y5\", \"572z\"]\r\n",
    "\r\n",
    "sort_by_letter([])\r\n",
    "➞ []\r\n"
   ],
   "metadata": {}
  },
  {
   "cell_type": "code",
   "execution_count": 352,
   "source": [
    "def sort_by_letter(l):\r\n",
    "    import re\r\n",
    "    count = 0\r\n",
    "    lst = [] \r\n",
    "    for i in l:\r\n",
    "        count += 1\r\n",
    "        alphabet = re.findall(\"[a-zA-Z]+\",i)\r\n",
    "        for i in alphabet:\r\n",
    "            ascii = ord(i)\r\n",
    "        lst.append((i,ascii,count))\r\n",
    "    s_list = sorted(lst)\r\n",
    "    final_lst = []\r\n",
    "    for i in s_list:\r\n",
    "        order = i[2] - 1\r\n",
    "        final_lst.append(l[order])\r\n",
    "    return(final_lst)"
   ],
   "outputs": [],
   "metadata": {}
  },
  {
   "cell_type": "code",
   "execution_count": 353,
   "source": [
    "sort_by_letter([\"932c\", \"832u32\", \"2344b\"])"
   ],
   "outputs": [
    {
     "output_type": "execute_result",
     "data": {
      "text/plain": [
       "['2344b', '932c', '832u32']"
      ]
     },
     "metadata": {},
     "execution_count": 353
    }
   ],
   "metadata": {}
  },
  {
   "cell_type": "code",
   "execution_count": 354,
   "source": [
    "sort_by_letter([\"99a\", \"78b\", \"c2345\", \"11d\"])"
   ],
   "outputs": [
    {
     "output_type": "execute_result",
     "data": {
      "text/plain": [
       "['99a', '78b', 'c2345', '11d']"
      ]
     },
     "metadata": {},
     "execution_count": 354
    }
   ],
   "metadata": {}
  },
  {
   "cell_type": "code",
   "execution_count": 355,
   "source": [
    "sort_by_letter([\"572z\", \"5y5\", \"304q2\"])"
   ],
   "outputs": [
    {
     "output_type": "execute_result",
     "data": {
      "text/plain": [
       "['304q2', '5y5', '572z']"
      ]
     },
     "metadata": {},
     "execution_count": 355
    }
   ],
   "metadata": {}
  },
  {
   "cell_type": "code",
   "execution_count": 356,
   "source": [
    "sort_by_letter([])"
   ],
   "outputs": [
    {
     "output_type": "execute_result",
     "data": {
      "text/plain": [
       "[]"
      ]
     },
     "metadata": {},
     "execution_count": 356
    }
   ],
   "metadata": {}
  },
  {
   "cell_type": "markdown",
   "source": [
    "5. There are three cups on a table, at positions A, B, and C. At the start, there is a ball hidden under the cup at position B.\r\n",
    "\r\n",
    "\r\n",
    "\r\n",
    "\r\n",
    "\r\n",
    "\r\n",
    "However, I perform several swaps on the cups, which is notated as two letters. For example, if I swap the cups at positions A and B, I could notate this as AB or BA.\r\n",
    "\r\n",
    "Create a function that returns the letter position that the ball is at, once I finish swapping the cups. The swaps will be given to you as a list.\r\n",
    "\r\n",
    "Example\r\n",
    "\r\n",
    "cup_swapping([\"AB\", \"CA\", \"AB\"]) ➞ \"C\"\r\n",
    "\r\n",
    "# Ball begins at position B.\r\n",
    "# Cups A and B swap, so the ball is at position A.\r\n",
    "# Cups C and A swap, so the ball is at position C.\r\n",
    "# Cups A and B swap, but the ball is at position C, so it doesn't move.\r\n"
   ],
   "metadata": {}
  },
  {
   "cell_type": "markdown",
   "source": [],
   "metadata": {}
  },
  {
   "cell_type": "code",
   "execution_count": 2,
   "source": [
    "def cup_swapping(lst):\r\n",
    "    d = {'A': False, 'B': True, 'C': False}\r\n",
    "\r\n",
    "    ball = str\r\n",
    "    for i in lst:\r\n",
    "        if d[i[0]] == True:\r\n",
    "            ball = i[1] \r\n",
    "            d[i[1]] = True\r\n",
    "            d[i[0]] = False\r\n",
    "        elif d[i[1]] == True:\r\n",
    "            ball = i[0]\r\n",
    "            d[i[1]] = False\r\n",
    "            d[i[0]] = True\r\n",
    "    return ball\r\n",
    "\r\n",
    "print(cup_swapping([\"AB\",\"CA\",\"AB\"]))\r\n",
    "    \r\n",
    "\r\n"
   ],
   "outputs": [
    {
     "output_type": "stream",
     "name": "stdout",
     "text": [
      "C\n"
     ]
    }
   ],
   "metadata": {}
  },
  {
   "cell_type": "code",
   "execution_count": 367,
   "source": [],
   "outputs": [
    {
     "output_type": "execute_result",
     "data": {
      "text/plain": [
       "str"
      ]
     },
     "metadata": {},
     "execution_count": 367
    }
   ],
   "metadata": {}
  }
 ],
 "metadata": {
  "kernelspec": {
   "name": "python3",
   "display_name": "Python 3.8.8 64-bit ('base': conda)"
  },
  "language_info": {
   "codemirror_mode": {
    "name": "ipython",
    "version": 3
   },
   "file_extension": ".py",
   "mimetype": "text/x-python",
   "name": "python",
   "nbconvert_exporter": "python",
   "pygments_lexer": "ipython3",
   "version": "3.8.8"
  },
  "interpreter": {
   "hash": "34dfee18d5f4a96df9a8fcc719c91cf50e8ed50de2aa108bf45cd20982063274"
  }
 },
 "nbformat": 4,
 "nbformat_minor": 5
}