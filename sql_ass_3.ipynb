{
 "cells": [
  {
   "cell_type": "markdown",
   "metadata": {},
   "source": [
    "Q-1. Write an SQL query to print the FIRST_NAME from Worker table after removing white spaces from the right side.\n",
    "Ans. Select RTRIM(FIRST_NAME) from Worker;\n",
    "\n",
    "Q-2. Write an SQL query that fetches the unique values of DEPARTMENT from Worker table and prints its length.\n",
    "Ans. Select DISTINCT LEN(DEPARTMENT) from Worker;\n",
    "\n",
    "Q-3. Write an SQL query to fetch nth max salaries from a table.\n",
    "Ans . SELECT TOP 1 SALARY FROM ( SELECT DISTINCT TOP 1 salary FROM WORKERS ORDER BY salary DESC ) AS temp ORDER BY salary\n",
    "    \n",
    " \n"
   ]
  }
 ],
 "metadata": {
  "language_info": {
   "name": "python"
  },
  "orig_nbformat": 4
 },
 "nbformat": 4,
 "nbformat_minor": 2
}
