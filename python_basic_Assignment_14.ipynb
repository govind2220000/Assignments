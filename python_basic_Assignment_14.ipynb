{
 "cells": [
  {
   "cell_type": "markdown",
   "metadata": {},
   "source": [
    "1. What does RGBA stand for?\n",
    "Ans. RGBA is a 4-channel format containing data for Red, Green, Blue, and Alpha. There is no use to the Alpha channel other than making the color transparent/opaque (or partially transparent; translucent).\n",
    "\n",
    "2. From the Pillow module, how do you get the RGBA value of any images?\n",
    "Ans. Firstly we need to import Image module of the PIL then we need to open the image in read mode then we have to use getdata() on that opened image object.\n",
    "    It will look like this:\n",
    "    from PIL import Image\n",
    "    im = Image.open(‘myfile.png’, ‘ r’)\n",
    "    pix_val = list(im.getdata())\n",
    "\n",
    "3. What is a box tuple, and how does it work?\n",
    "Ans. The box. tuple submodule provides read-only access for the tuple userdata type. It allows, for a single tuple: selective retrieval of the field contents, retrieval of information about size, iteration over all the fields, and conversion to a Lua table.\n",
    "\n",
    "4. Use your image and load in notebook then, How can you find out the width and height of an Image object?\n",
    "Ans. from PIL import Image\n",
    "    im = Image.open('myfile.png', 'r')\n",
    "    print(im.width, im.height,im.size)\n",
    "\n",
    "5. What method would you call to get Image object for a 100×100 image, excluding the lower-left quarter of it?\n",
    "Ans. crop method would be called to get Image object for a 100*100 image \n",
    "8090646781 8995\n",
    "6. After making changes to an Image object, how could you save it as an image file?\n",
    "Ans. Using save method we can save the image\n",
    "\n",
    "7. What module contains Pillow’s shape-drawing code?\n",
    "Ans . ImageDraw module of the Python image processing library Pillow (PIL) provides a number of methods for drawing figures such as circle, square, and straight line. See the following article for the installation and basic usage of Pillow (PIL)\n",
    "\n",
    "8. Image objects do not have drawing methods. What kind of object does? How do you get this kind of object?\n",
    "Ans. Another module for wand is wand.drawing. This module provides us with some very basic drawing functions. wand.drawing.Drawing object buffers instructions for drawing shapes into images, and then it can draw these shapes into zero or more images.\n",
    "\n"
   ]
  },
  {
   "cell_type": "code",
   "execution_count": 27,
   "metadata": {},
   "outputs": [],
   "source": [
    "from PIL import Image\n",
    "im = Image.open('myfile.png', 'r')\n",
    "area = (100, 100, 200, 200)\n",
    "cropped_img = im.crop(area)\n",
    "cropped_img.save('cropped.png')\n"
   ]
  }
 ],
 "metadata": {
  "interpreter": {
   "hash": "c58b8a724218bdb10f6d6531e7b61d6abdedeedc5a7749bb21afeaa1c650a9bb"
  },
  "kernelspec": {
   "display_name": "Python 3.8.5 64-bit",
   "language": "python",
   "name": "python3"
  },
  "language_info": {
   "codemirror_mode": {
    "name": "ipython",
    "version": 3
   },
   "file_extension": ".py",
   "mimetype": "text/x-python",
   "name": "python",
   "nbconvert_exporter": "python",
   "pygments_lexer": "ipython3",
   "version": "3.8.5"
  },
  "orig_nbformat": 4
 },
 "nbformat": 4,
 "nbformat_minor": 2
}
