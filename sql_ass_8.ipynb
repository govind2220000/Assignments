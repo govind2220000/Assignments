{
 "cells": [
  {
   "cell_type": "markdown",
   "metadata": {},
   "source": [
    "Q-15. Write an SQL query to fetch intersecting records of two tables.\n",
    "Ans. SELECT * FROM WORKERS INTERSECT SELECT * FROM WORKERSCLONE; \n",
    "\n",
    "\n",
    "\n",
    "Q-16. Write an SQL query to show records from one table that another table does not have.\n",
    "Ans. SELECT WORKER_ID FROM WORKERS WHERE WORKER_ID NOT IN (SELECT DISTINCT WORKER_REF_ID FROM TITLE)"
   ]
  }
 ],
 "metadata": {
  "language_info": {
   "name": "python"
  },
  "orig_nbformat": 4
 },
 "nbformat": 4,
 "nbformat_minor": 2
}
