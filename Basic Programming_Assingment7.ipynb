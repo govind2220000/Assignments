{
 "cells": [
  {
   "cell_type": "markdown",
   "metadata": {},
   "source": [
    "# Write a Python Program to find sum of array?"
   ]
  },
  {
   "cell_type": "code",
   "execution_count": 3,
   "metadata": {},
   "outputs": [
    {
     "name": "stdout",
     "output_type": "stream",
     "text": [
      "Enter how much elements you want to enter in an array: 3\n",
      "Enter number you want to insert:3\n",
      "Enter number you want to insert:9\n",
      "Enter number you want to insert:8\n",
      "Sum of array is 20\n"
     ]
    }
   ],
   "source": [
    "def sum(arr):\n",
    "    sum = 0\n",
    "    for i in arr:\n",
    "        sum = sum + i\n",
    "    return sum\n",
    "\n",
    "l = []\n",
    "n = int(input(\"Enter how much elements you want to enter in an array: \"))\n",
    "\n",
    "for i in range(n):\n",
    "    a = int(input(\"Enter number you want to insert:\"))\n",
    "    l.append(a)\n",
    "\n",
    "final  = sum(l)\n",
    "\n",
    "print(\"Sum of array is {}\".format(final))"
   ]
  },
  {
   "cell_type": "markdown",
   "metadata": {},
   "source": [
    "# Write a Python Program to find largest element in an array?\n"
   ]
  },
  {
   "cell_type": "code",
   "execution_count": 9,
   "metadata": {},
   "outputs": [
    {
     "name": "stdout",
     "output_type": "stream",
     "text": [
      "Enter how much elements you want to enter in an array: 6\n",
      "Enter number you want to insert:15\n",
      "Enter number you want to insert:98\n",
      "Enter number you want to insert:778\n",
      "Enter number you want to insert:699\n",
      "Enter number you want to insert:366\n",
      "Enter number you want to insert:154987876\n",
      "Largest element of an array is 154987876\n"
     ]
    }
   ],
   "source": [
    "\n",
    "def largest(arr):\n",
    "    large = max(arr)\n",
    "    return large\n",
    "\n",
    "\n",
    "\n",
    "\n",
    "l = []\n",
    "n = int(input(\"Enter how much elements you want to enter in an array: \"))\n",
    "\n",
    "for i in range(n):\n",
    "    a = int(input(\"Enter number you want to insert:\"))\n",
    "    l.append(a)\n",
    "\n",
    "f  = largest(l)\n",
    "print(\"Largest element of an array is {}\".format(f))"
   ]
  },
  {
   "cell_type": "code",
   "execution_count": null,
   "metadata": {},
   "outputs": [],
   "source": [
    "Write a Python Program for array rotation?\n"
   ]
  },
  {
   "cell_type": "code",
   "execution_count": 32,
   "metadata": {},
   "outputs": [
    {
     "name": "stdout",
     "output_type": "stream",
     "text": [
      "Enter how much elements you want to enter in an array: 9\n",
      "Enter number you want to insert:45\n",
      "Enter number you want to insert:49\n",
      "Enter number you want to insert:96\n",
      "Enter number you want to insert:9\n",
      "Enter number you want to insert:8\n",
      "Enter number you want to insert:7\n",
      "Enter number you want to insert:546\n",
      "Enter number you want to insert:2\n",
      "Enter number you want to insert:352\n",
      "Enter how much you want to rotate:6\n",
      "Before Rotation array is [45, 49, 96, 9, 8, 7, 546, 2, 352]\n",
      "After Rotation of an array it is deque([9, 8, 7, 546, 2, 352, 45, 49, 96])\n"
     ]
    }
   ],
   "source": [
    "from collections import deque\n",
    "def rotation(arr,r):\n",
    "\n",
    "    d=deque(arr)\n",
    "    d.rotate(r)\n",
    "    return d\n",
    "\n",
    "\n",
    "l = []\n",
    "n = int(input(\"Enter how much elements you want to enter in an array: \"))\n",
    "\n",
    "for i in range(n):\n",
    "    a = int(input(\"Enter number you want to insert:\"))\n",
    "    l.append(a)\n",
    "r = int(input(\"Enter how much you want to rotate:\"))\n",
    "f  = rotation(l,r)\n",
    "print(\"Before Rotation array is {}\\nAfter Rotation of an array it is {}\".format(l,f))"
   ]
  },
  {
   "cell_type": "markdown",
   "metadata": {},
   "source": [
    "# Write a Python Program to Split the array and add the first part to the end?"
   ]
  },
  {
   "cell_type": "code",
   "execution_count": 47,
   "metadata": {},
   "outputs": [
    {
     "name": "stdout",
     "output_type": "stream",
     "text": [
      "Enter how much elements you want to enter in an array: 6\n",
      "Enter number you want to insert:12\n",
      "Enter number you want to insert:10\n",
      "Enter number you want to insert:5\n",
      "Enter number you want to insert:6\n",
      "Enter number you want to insert:52\n",
      "Enter number you want to insert:36\n",
      "Enter position:2\n",
      "5 6 52 36 12 10 "
     ]
    }
   ],
   "source": [
    "def splitArr(arr, n, k): \n",
    "    for i in range(0, k): \n",
    "        x = arr[0]\n",
    "        for j in range(0, n-1):\n",
    "            arr[j] = arr[j + 1]\n",
    "          \n",
    "        arr[n-1] = x\n",
    "          \n",
    "l = []\n",
    "n = int(input(\"Enter how much elements you want to enter in an array: \"))\n",
    "\n",
    "for i in range(n):\n",
    "    a = int(input(\"Enter number you want to insert:\"))\n",
    "    l.append(a)\n",
    "n = len(l)\n",
    "position = int(input(\"Enter position:\"))\n",
    "  \n",
    "splitArr(l, n, position)\n",
    "  \n",
    "for i in range(0, n): \n",
    "    print(l[i], end = ' ')"
   ]
  },
  {
   "cell_type": "markdown",
   "metadata": {},
   "source": [
    "# Write a Python Program to check if given array is Monotonic?\n"
   ]
  },
  {
   "cell_type": "code",
   "execution_count": 54,
   "metadata": {},
   "outputs": [
    {
     "name": "stdout",
     "output_type": "stream",
     "text": [
      "Enter how much elements you want to enter in an array: 4\n",
      "Enter number you want to insert:4\n",
      "Enter number you want to insert:3\n",
      "Enter number you want to insert:2\n",
      "Enter number you want to insert:2\n",
      "True\n"
     ]
    }
   ],
   "source": [
    "def isMonotonic(A):\n",
    "  \n",
    "    return (all(A[i] <= A[i + 1] for i in range(len(A) - 1)) or\n",
    "            all(A[i] >= A[i + 1] for i in range(len(A) - 1)))\n",
    "n = int(input(\"Enter how much elements you want to enter in an array: \"))\n",
    "l = [] \n",
    "for i in range(n):\n",
    "    a = int(input(\"Enter number you want to insert:\"))\n",
    "    l.append(a)\n",
    "\n",
    "print(isMonotonic(l))"
   ]
  }
 ],
 "metadata": {
  "kernelspec": {
   "display_name": "Python 3",
   "language": "python",
   "name": "python3"
  },
  "language_info": {
   "codemirror_mode": {
    "name": "ipython",
    "version": 3
   },
   "file_extension": ".py",
   "mimetype": "text/x-python",
   "name": "python",
   "nbconvert_exporter": "python",
   "pygments_lexer": "ipython3",
   "version": "3.8.5"
  }
 },
 "nbformat": 4,
 "nbformat_minor": 4
}
