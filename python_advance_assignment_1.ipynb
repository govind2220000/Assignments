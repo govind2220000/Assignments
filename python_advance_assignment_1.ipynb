{
 "cells": [
  {
   "cell_type": "markdown",
   "source": [
    "## Q1. What is the purpose of Python's OOP?\r\n",
    "Ans. In Python, object-oriented Programming (OOPs) is a programming paradigm that uses objects and classes in programming. It aims to implement real-world entities like inheritance, polymorphisms, encapsulation, etc. in the programming. The main concept of OOPs is to bind the data and the functions that work on that together as a single unit so that no other part of the code can access this data. \r\n"
   ],
   "metadata": {}
  },
  {
   "cell_type": "markdown",
   "source": [
    "## Q2. Where does an inheritance search look for an attribute?\r\n",
    "Ans. attribute where object is an instance or class object, Python searches the namespace tree at and above object, for the first attr it can find. Because lower definitions in the tree override higher ones, inheritance forms the basis of specialization."
   ],
   "metadata": {}
  },
  {
   "cell_type": "markdown",
   "source": [
    "## Q3. How do you distinguish between a class object and an instance object?\r\n",
    "Ans. Instance refers to the copy of the object at a particular time whereas object refers to the memory address of the class.\r\n",
    "\r\n",
    "The class = the blue print. The Object is an actual thing that is built based on the 'blue print' (like the house). An instance is a virtual copy (but not a real copy) of the object."
   ],
   "metadata": {}
  },
  {
   "cell_type": "markdown",
   "source": [
    "## Q4. What makes the first argument in a class’s method function special?\r\n",
    "Ans . The first argument of every class method, including init, is always a reference to the current instance of the class. By convention, this argument is always named self.."
   ],
   "metadata": {}
  },
  {
   "cell_type": "markdown",
   "source": [
    "## Q5. What is the purpose of the __init__ method?\r\n",
    "Ans . Whenever we will create an object of the class it will run  __init__ method very first. The __init__ method is similar to constructors in C++ and Java . Constructors are used to initialize the object's state. The task of constructors is to initialize(assign values) to the data members of the class when an object of class is created\r\n"
   ],
   "metadata": {}
  },
  {
   "cell_type": "markdown",
   "source": [
    "## Q6. What is the process for creating a class instance?\r\n",
    "Ans. The process for creating a class instance is:\r\n",
    "class <classname> \r\n",
    "\r\n",
    "A = class <classname>\r\n",
    "\r\n",
    "When you create an object, you are creating an instance of a class, therefore \"instantiating\" a class. The new operator requires a single, postfix argument: a call to a constructor. The name of the constructor provides the name of the class to instantiate. The constructor initializes the new object."
   ],
   "metadata": {}
  },
  {
   "cell_type": "markdown",
   "source": [
    "## Q7. What is the process for creating a class?\r\n",
    "Ans. Create a Class. To create a class, use the keyword class : ...\r\n",
    "    Create Object. Now we can use the class named MyClass to create objects: ...\r\n",
    "    The self Parameter. ...\r\n",
    "    Modify Object Properties. ...\r\n",
    "    Delete Object Properties. ...\r\n",
    "    Delete Objects.\r\n",
    "\r\n",
    "    Ex:\r\n",
    "    class <classname> \r\n",
    "\r\n",
    "    A = class <classname>"
   ],
   "metadata": {}
  },
  {
   "cell_type": "markdown",
   "source": [
    "## Q8. How would you define the superclasses of a class?\r\n",
    "Ans. A superclass is the class from which many subclasses can be created. The subclasses inherit the characteristics of a superclass. The superclass is also known as the parent class or base class."
   ],
   "metadata": {}
  }
 ],
 "metadata": {
  "orig_nbformat": 4,
  "language_info": {
   "name": "python",
   "version": "3.8.8",
   "mimetype": "text/x-python",
   "codemirror_mode": {
    "name": "ipython",
    "version": 3
   },
   "pygments_lexer": "ipython3",
   "nbconvert_exporter": "python",
   "file_extension": ".py"
  },
  "kernelspec": {
   "name": "python3",
   "display_name": "Python 3.8.8 64-bit ('base': conda)"
  },
  "interpreter": {
   "hash": "34dfee18d5f4a96df9a8fcc719c91cf50e8ed50de2aa108bf45cd20982063274"
  }
 },
 "nbformat": 4,
 "nbformat_minor": 2
}