{
 "cells": [
  {
   "cell_type": "markdown",
   "metadata": {},
   "source": [
    "# 1. How do you distinguish between shutil.copy() and shutil.copytree()?"
   ]
  },
  {
   "cell_type": "markdown",
   "metadata": {},
   "source": [
    "shutil.copy() will only copy a single file shutil.copy() method in Python is used to copy the content of source file to destination file or directory but shutil.copytree() will copy the entire folder and every folder and file contained in it."
   ]
  },
  {
   "cell_type": "markdown",
   "metadata": {},
   "source": [
    "# 2. What function is used to rename files??"
   ]
  },
  {
   "cell_type": "markdown",
   "metadata": {},
   "source": [
    "os. rename() function in Python is used to rename a file or directory.\n",
    "\n",
    "The shutil.move() function is also used for renaming files, as well as moving them."
   ]
  },
  {
   "cell_type": "markdown",
   "metadata": {},
   "source": [
    "# 3. What is the difference between the delete functions in the send2trash and shutil modules?"
   ]
  },
  {
   "cell_type": "markdown",
   "metadata": {},
   "source": [
    "The send2trash functions will move a file or folder to the recycle bin, while shutil functions will permanently delete files and folders."
   ]
  },
  {
   "cell_type": "markdown",
   "metadata": {},
   "source": [
    "# 4.ZipFile objects have a close() method just like File objects’ close() method. What ZipFile method is equivalent to File objects’ open() method?"
   ]
  },
  {
   "cell_type": "markdown",
   "metadata": {},
   "source": [
    " The zipfile.ZipFile() function is equivalent to the open() function; the first argument is the filename, and the second argument is the mode to open the ZIP file in (read, write, or append)."
   ]
  },
  {
   "cell_type": "markdown",
   "metadata": {},
   "source": [
    "# 5. Create a programme that searches a folder tree for files with a certain file extension (such as .pdf or .jpg). Copy these files from whatever location they are in to a new folder."
   ]
  },
  {
   "cell_type": "code",
   "execution_count": 29,
   "metadata": {},
   "outputs": [
    {
     "name": "stdout",
     "output_type": "stream",
     "text": [
      "Current Working Directory  G:\\folder tree\n",
      "Now Working Directory is G:\\folder tree\n",
      "G:\\folder tree\n",
      "G:\\selectivefolder\n",
      "Looking in G:\\folder tree for files with extensions of  .JPG,.pdf\n",
      "*** G:\\folder tree ** ['folder tree 1'] * ['Capture.JPG', 'statsfullstack111.pdf']\n",
      "Coping G:\\folder tree\\Capture.JPG to G:\\selectivefolder\n",
      "Coping G:\\folder tree\\statsfullstack111.pdf to G:\\selectivefolder\n",
      "*** G:\\folder tree\\folder tree 1 ** [] * ['121212.JPG', '33.pdf']\n",
      "Coping G:\\folder tree\\folder tree 1\\121212.JPG to G:\\selectivefolder\n",
      "Coping G:\\folder tree\\folder tree 1\\33.pdf to G:\\selectivefolder\n"
     ]
    }
   ],
   "source": [
    "import shutil,os\n",
    "\n",
    "def selectiveCopy(folder,extensions,destFolder):\n",
    "    folder=os.path.abspath(folder)\n",
    "    print(folder)\n",
    "    destFolder=os.path.abspath(destFolder)\n",
    "    print(destFolder)\n",
    "    print('Looking in '+ folder+ ' for files with extensions of ', ','.join(extensions))\n",
    "    for foldername,subfolders,filenames in os.walk(folder):\n",
    "        print(\"***\",foldername, \"**\", subfolders , \"*\",filenames)\n",
    "        for file in filenames:\n",
    "            name, extension = os.path.splitext(file)\n",
    "\n",
    "            if extension in extensions:\n",
    "                fileAbsPath = foldername + os.path.sep + file\n",
    "                print('Coping', fileAbsPath, 'to', destFolder)\n",
    "                shutil.copy(fileAbsPath, destFolder)\n",
    "    \n",
    "\n",
    "\n",
    "print(\"Current Working Directory \" , os.getcwd())\n",
    "os.chdir(\"G:\\\\folder tree\")                         #give the directory  to change the working location\n",
    "print(\"Now Working Directory is\" , os.getcwd())\n",
    "extensions=['.JPG' , '.pdf']                         #give the file extensions you have to copy\n",
    "folder='G:\\\\folder tree'                               # #give the directory from where you have to copy\n",
    "destFolder='G://selectivefolder/'                #give the directory where you have to copy\n",
    "selectiveCopy(folder, extensions, destFolder) #calling function"
   ]
  },
  {
   "cell_type": "code",
   "execution_count": 28,
   "metadata": {},
   "outputs": [
    {
     "name": "stdout",
     "output_type": "stream",
     "text": [
      "G:\\folder tree\\Capture.JPG \\\n"
     ]
    }
   ],
   "source": [
    "\n",
    "#for my understanding\n",
    "file_name = 'Capture.JPG'\n",
    "print(os.path.abspath(file_name),os.path.sep)"
   ]
  },
  {
   "cell_type": "code",
   "execution_count": 27,
   "metadata": {},
   "outputs": [
    {
     "data": {
      "text/plain": [
       "'G:\\\\selectivefolder'"
      ]
     },
     "execution_count": 27,
     "metadata": {},
     "output_type": "execute_result"
    }
   ],
   "source": []
  },
  {
   "cell_type": "code",
   "execution_count": null,
   "metadata": {},
   "outputs": [],
   "source": []
  },
  {
   "cell_type": "code",
   "execution_count": null,
   "metadata": {},
   "outputs": [],
   "source": []
  }
 ],
 "metadata": {
  "kernelspec": {
   "display_name": "Python 3",
   "language": "python",
   "name": "python3"
  },
  "language_info": {
   "codemirror_mode": {
    "name": "ipython",
    "version": 3
   },
   "file_extension": ".py",
   "mimetype": "text/x-python",
   "name": "python",
   "nbconvert_exporter": "python",
   "pygments_lexer": "ipython3",
   "version": "3.8.5"
  }
 },
 "nbformat": 4,
 "nbformat_minor": 4
}
