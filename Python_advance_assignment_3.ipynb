{
 "cells": [
  {
   "cell_type": "markdown",
   "metadata": {},
   "source": [
    "1. What is the concept of an abstract superclass?\n",
    "Ans. Abstract Super Class. A common superclass for several subclasses. Factor up common behavior. Define the methods they all respond to. Methods that subclasses should implement are declared abstract.\n",
    "\n",
    "\n",
    "2. What happens when a class statement's top level contains a basic assignment statement?\n",
    "Ans. we can access those variables without instantating the object\n",
    "\n",
    "\n",
    "\n",
    "3. Why does a class need to manually call a superclass's __init__ method?\n",
    "Ans. It's because one needs to define something that is NOT done in the base-class' __init__ , and the only possibility to obtain that is to put its execution in a derived-class' __init__ function\n",
    "\n",
    "\n",
    "4. How can you augment, instead of completely replacing, an inherited method?\n",
    "Ans. To augment instead of completely replacing an inherited method redefine it in a subclass but call back to superclasss version of the method manually from the new version of the method in the subclass. That is pass the self instance to the superclass version of the method manually\n",
    "\n",
    "\n",
    "5. How is the local scope of a class different from that of a function?\n",
    "Ans. Declaring a variable in a class (outside of a function): all class functions can access it (basically a public variable)\n",
    "\n",
    "Declaring a variable inside a function inside a class: only that function can access it (it's in that function's scope)\n",
    "\n",
    "Declaring a variable with self.(variable name) inside a function inside a class: all class functions can access it (how is this different from global (variable name)?)\n",
    "\n",
    "The members of a class that are declared public are easily accessible from any part of the program. All data members and member functions of a class are public by default. \n",
    "\n",
    "The members of a class that are declared protected are only accessible to a class derived from it. Data members of a class are declared protected by adding a single underscore ‘_’ symbol before the data member of that class. \n",
    "\n",
    "The members of a class that are declared private are accessible within the class only, private access modifier is the most secure access modifier. Data members of a class are declared private by adding a double underscore ‘__’ symbol before the data member of that class. \n"
   ]
  }
 ],
 "metadata": {
  "language_info": {
   "name": "python"
  },
  "orig_nbformat": 4
 },
 "nbformat": 4,
 "nbformat_minor": 2
}
