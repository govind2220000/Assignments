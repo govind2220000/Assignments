{
 "cells": [
  {
   "cell_type": "markdown",
   "metadata": {},
   "source": [
    "Q-19. Write an SQL query to determine the 5th highest salary without using TOP or limit method.\n",
    "Ans. SELECT FIRST_NAME, SALARY, RANKING FROM ( SELECT FIRST_NAME, SALARY, RANK () OVER (PARTITION BY FIRST_NAME ORDER BY SALARY DESC) AS RANKING FROM WORKERS) AS WORKESS WHERE RANKING = 1;\n",
    "\n",
    "\n",
    "\n",
    "\n",
    "Q-20. Write an SQL query to fetch the list of employees with the same salary.\n",
    "Ans. Select distinct W.WORKER_ID, W.FIRST_NAME, W.SALARY from WORKERS W, WORKERS W1 where W.SALARY = W1.SALARY and W.WORKER_ID != W1.WORKER_ID;\n"
   ]
  }
 ],
 "metadata": {
  "language_info": {
   "name": "python"
  },
  "orig_nbformat": 4
 },
 "nbformat": 4,
 "nbformat_minor": 2
}
