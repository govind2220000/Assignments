{
 "cells": [
  {
   "cell_type": "code",
   "execution_count": 1,
   "metadata": {},
   "outputs": [],
   "source": [
    "#Write a Python Program to Find LCM?\n",
    "#Write a Python Program to Find HCF?\n",
    "#Write a Python Program to Convert Decimal to Binary, Octal and Hexadecimal?\n",
    "#Write a Python Program To Find ASCII value of a character?\n",
    "#Write a Python Program to Make a Simple Calculator with 4 basic mathematical operations?\n"
   ]
  },
  {
   "cell_type": "markdown",
   "metadata": {},
   "source": [
    "# Write a Python Program to Find LCM?"
   ]
  },
  {
   "cell_type": "code",
   "execution_count": 10,
   "metadata": {},
   "outputs": [
    {
     "name": "stdout",
     "output_type": "stream",
     "text": [
      "Enter First number: 67\n",
      "Enter Second number: 97\n",
      "The LCM of number 67 and 97 is 6499\n"
     ]
    }
   ],
   "source": [
    "n1 = int(input(\"Enter First number: \"))\n",
    "n2 = int(input(\"Enter Second number: \"))\n",
    "\n",
    "if n1>n2:\n",
    "    n3 = n2\n",
    "else:\n",
    "    n3 = n1\n",
    "\n",
    "while(True):\n",
    "    if (n3%n1)== 0 and (n3%n2)==0:\n",
    "        lcm = n3\n",
    "        break\n",
    "    n3 += 1\n",
    "print(\"The LCM of number {} and {} is {}\".format(n1,n2,lcm))\n",
    "\n"
   ]
  },
  {
   "cell_type": "markdown",
   "metadata": {},
   "source": [
    "# Write a Python Program to Find HCF?"
   ]
  },
  {
   "cell_type": "code",
   "execution_count": 31,
   "metadata": {},
   "outputs": [
    {
     "name": "stdout",
     "output_type": "stream",
     "text": [
      "Enter First number: 12\n",
      "Enter Second number: 14\n",
      "The HCF of 12 and 14 is 2\n"
     ]
    }
   ],
   "source": [
    "no1 = int(input(\"Enter First number: \"))\n",
    "no2 = int(input(\"Enter Second number: \"))\n",
    "\n",
    "if no1<no2:\n",
    "    smaller = no1\n",
    "else:\n",
    "    smaller = no2\n",
    "\n",
    "for i in range(1, smaller+1):\n",
    "    if(no1%i == 0) and (no2%i == 0):\n",
    "        hcf = i\n",
    "\n",
    "\n",
    "print(\"The HCF of {} and {} is {}\".format(no1,no2,hcf))\n"
   ]
  },
  {
   "cell_type": "markdown",
   "metadata": {},
   "source": [
    "# Write a Python Program to Convert Decimal to Binary, Octal and Hexadecimal?"
   ]
  },
  {
   "cell_type": "code",
   "execution_count": 35,
   "metadata": {},
   "outputs": [
    {
     "name": "stdout",
     "output_type": "stream",
     "text": [
      "Enter number in decimal format: 44\n",
      "The decimal value of 44 is:\n",
      "0b101100 in binary.\n",
      "0o54 in octal.\n",
      "0x2c in hexadecimal.\n"
     ]
    }
   ],
   "source": [
    "number = int(input(\"Enter number in decimal format: \"))\n",
    "\n",
    "print(\"The decimal value of\", number, \"is:\")\n",
    "print(bin(number), \"in binary.\")\n",
    "print(oct(number), \"in octal.\")\n",
    "print(hex(number), \"in hexadecimal.\")"
   ]
  },
  {
   "cell_type": "markdown",
   "metadata": {},
   "source": [
    "# Write a Python Program To Find ASCII value of a character"
   ]
  },
  {
   "cell_type": "code",
   "execution_count": 38,
   "metadata": {},
   "outputs": [
    {
     "name": "stdout",
     "output_type": "stream",
     "text": [
      "Enter data: a\n",
      "The ASCII value of a is 97 : \n"
     ]
    }
   ],
   "source": [
    "d =input(\"Enter data: \")\n",
    "\n",
    "a = ord(d)\n",
    "\n",
    "print(\"The ASCII value of {} is {} : \".format(d,a))\n"
   ]
  },
  {
   "cell_type": "markdown",
   "metadata": {},
   "source": [
    "# Write a Python Program to Make a Simple Calculator with 4 basic mathematical operations"
   ]
  },
  {
   "cell_type": "code",
   "execution_count": 8,
   "metadata": {},
   "outputs": [
    {
     "name": "stdout",
     "output_type": "stream",
     "text": [
      "1 for addition\n",
      " 2 for subtraction\n",
      " 3 for multiplication\n",
      " 4 for division\n",
      " 4\n",
      "Enter First number: 15\n",
      "Enter Second number: 3\n",
      "division is 5.0 \n"
     ]
    }
   ],
   "source": [
    "n1 = int(input(\"1 for addition\\n 2 for subtraction\\n 3 for multiplication\\n 4 for division\\n \"))\n",
    "n2 = int(input(\"Enter First number: \"))\n",
    "n3 = int(input(\"Enter Second number: \"))\n",
    "\n",
    "def calculator(n1,n2,n3):\n",
    "    if(n1 == 1):\n",
    "        n4 = n2+n3\n",
    "        print(\"Addition is {} \".format(n4))\n",
    "    elif(n1 == 2):\n",
    "        n4 = n2-n3\n",
    "        print(\"subtraction is {} \".format(n4))\n",
    "    elif(n1 == 3):\n",
    "        n4 = n2*n3\n",
    "        print(\"multiplication is {} \".format(n4))\n",
    "    elif(n1 == 4):\n",
    "        n4 = n2/n3\n",
    "        print(\"division is {} \".format(n4))\n",
    "    return n4\n",
    "n5 = calculator(n1,n2,n3)\n",
    "    \n",
    "        "
   ]
  },
  {
   "cell_type": "code",
   "execution_count": null,
   "metadata": {},
   "outputs": [],
   "source": []
  },
  {
   "cell_type": "code",
   "execution_count": null,
   "metadata": {},
   "outputs": [],
   "source": []
  }
 ],
 "metadata": {
  "kernelspec": {
   "display_name": "Python 3",
   "language": "python",
   "name": "python3"
  }
 },
 "nbformat": 4,
 "nbformat_minor": 4
}
