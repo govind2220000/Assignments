{
 "cells": [
  {
   "cell_type": "markdown",
   "metadata": {},
   "source": [
    "Q1. Describe three applications for exception processing.\n",
    "Ans. a-> ensures that the flow of the program doesn't break when an exception occurs.\n",
    "     b-> helps to identify why and where the program failed.\n",
    "     c-> clarifies the code and enhances readability. \n",
    "\n",
    "\n",
    "Q2. What happens if you don't do something extra to treat an exception?\n",
    "Ans . It can terminate the program.The program terminates abruptly and the code past the line that caused the exception will not get executed.\n",
    "\n",
    "\n",
    "Q3. What are your options for recovering from an exception in your script?\n",
    "Ans. Try and except statements are used to catch and handle exceptions in Python. Statements that can raise exceptions are kept inside the try clause and the statements that handle the exception are written inside except clause. In this way we can recover from exception. An other way is also by using an finally block which will run every time even if exception occurs or not.\n",
    "\n",
    "\n",
    "Q4. Describe two methods for triggering exceptions in your script.\n",
    "Ans. Try – This method catches the exceptions raised by the program. \n",
    "    Raise - To throw (or raise) an exception, use the raise keyword.\n",
    "\n",
    "\n",
    "\n",
    "Q5. Identify two methods for specifying actions to be executed at termination time, regardless of whether or not an exception exists.\n",
    "Ans. finally - using an finally block which will run every time even if exception occurs or not.\n",
    "     The optional else clause contains codes to be executed if no exception occurs."
   ]
  }
 ],
 "metadata": {
  "language_info": {
   "name": "python"
  },
  "orig_nbformat": 4
 },
 "nbformat": 4,
 "nbformat_minor": 2
}
