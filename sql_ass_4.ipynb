{
 "cells": [
  {
   "cell_type": "markdown",
   "metadata": {},
   "source": [
    "Q-1. Write an SQL query to print the FIRST_NAME from Worker table after replacing ‘a’ with ‘A’.\n",
    "Ans. SELECT REPLACE(FIRST_NAME,'a','A') FROM  Worker;\n",
    "\n",
    "Q-2. Write an SQL query to print all Worker details from the Worker table order by FIRST_NAME Ascending and DEPARTMENT Descending.\n",
    "SELECT FIRST_NAME,DEPARTMENT FROM Workers ORDER BY FIRST_NAME ASC,DEPARTMENT DESC;\n",
    "\n",
    "Q-3. Write an SQL query to fetch the names of workers who earn the highest salary.\n",
    "Ans .SELECT FIRST_NAME, SALARY from Workers WHERE SALARY=(SELECT max(SALARY) from WORKERS);\n",
    " \n",
    "\n"
   ]
  }
 ],
 "metadata": {
  "language_info": {
   "name": "python"
  },
  "orig_nbformat": 4
 },
 "nbformat": 4,
 "nbformat_minor": 2
}
