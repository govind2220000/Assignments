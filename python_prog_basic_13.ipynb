{
 "cells": [
  {
   "cell_type": "markdown",
   "metadata": {},
   "source": [
    "Question 1:\n",
    "\n",
    "Write a program that calculates and prints the value according to the given formula:\n",
    "\n",
    "Q = Square root of [(2 * C * D)/H]\n",
    "\n",
    "Following are the fixed values of C and H:\n",
    "\n",
    "C is 50. H is 30.\n",
    "\n",
    "D is the variable whose values should be input to your program in a comma-separated sequence.\n",
    "\n",
    "Example\n",
    "\n",
    "Let us assume the following comma separated input sequence is given to the program:\n",
    "\n",
    "100,150,180\n",
    "\n",
    "The output of the program should be:\n",
    "\n",
    "18,22,24\n"
   ]
  },
  {
   "cell_type": "code",
   "execution_count": 10,
   "metadata": {},
   "outputs": [
    {
     "name": "stdout",
     "output_type": "stream",
     "text": [
      "[18, 22, 24]\n"
     ]
    }
   ],
   "source": [
    "import math\n",
    "def calculation(c = 50, h = 30):\n",
    "\n",
    "    n = input(\"Enter the number of terms seperated by comma: \")\n",
    "    li = list(n.split(\",\"))\n",
    "    lst = []\n",
    "    \n",
    "    for i in range(len(li)):\n",
    "        li[i] = int(li[i])\n",
    "\n",
    "    for i in range(len(li)):\n",
    "        Q = math.sqrt((2 * c * li[i]) / h)\n",
    "        lst.append(int(Q))\n",
    "    return lst\n",
    "    \n",
    "output = calculation()\n",
    "print(output)"
   ]
  },
  {
   "cell_type": "markdown",
   "metadata": {},
   "source": [
    "Question 2:\n",
    "Write a program which takes 2 digits, X,Y as input and generates a 2-dimensional array. The element value in the i-th row and j-th column of the array should be i*j.\n",
    "\n",
    "\n",
    "\n",
    "\n",
    "Note: i=0,1.., X-1; j=0,1,¡Y-1.\n",
    "\n",
    "\n",
    "\n",
    "\n",
    "Example\n",
    "\n",
    "\n",
    "\n",
    "\n",
    "Suppose the following inputs are given to the program:\n",
    "\n",
    "\n",
    "\n",
    "\n",
    "3,5\n",
    "\n",
    "\n",
    "\n",
    "\n",
    "Then, the output of the program should be:\n",
    "\n",
    "\n",
    "\n",
    "\n",
    "[[0, 0, 0, 0, 0], [0, 1, 2, 3, 4], [0, 2, 4, 6, 8]] \n",
    "\n",
    "\n",
    "\n"
   ]
  },
  {
   "cell_type": "code",
   "execution_count": 11,
   "metadata": {},
   "outputs": [
    {
     "name": "stdout",
     "output_type": "stream",
     "text": [
      "[[0, 0, 0, 0, 0], [0, 1, 2, 3, 4], [0, 2, 4, 6, 8]]\n"
     ]
    }
   ],
   "source": [
    "def matrix(rows, columns):\n",
    "    matrix = []\n",
    "    for i in range(rows):\n",
    "        matrix.append([])\n",
    "        for j in range(columns):\n",
    "            input_value = int(input(\"Enter the value: \"))\n",
    "            matrix[i].append(input_value)\n",
    "    return matrix\n",
    "\n",
    "mat = matrix(3,5)\n",
    "print(mat)"
   ]
  },
  {
   "cell_type": "markdown",
   "metadata": {},
   "source": [
    "Question 3:\n",
    "Write a program that accepts a comma separated sequence of words as input and prints the words in a comma-separated sequence after sorting them alphabetically.\n",
    "\n",
    "Suppose the following input is supplied to the program:\n",
    "\n",
    "without,hello,bag,world\n",
    "\n",
    "Then, the output should be:\n",
    "\n",
    "bag,hello,without,world\n"
   ]
  },
  {
   "cell_type": "code",
   "execution_count": 13,
   "metadata": {},
   "outputs": [
    {
     "name": "stdout",
     "output_type": "stream",
     "text": [
      "bag,hello,without,world\n"
     ]
    }
   ],
   "source": [
    "def alphabet_sort(words):\n",
    "    li = list(words.split(\",\"))\n",
    "    sorted_lst = sorted(li)\n",
    "    return sorted_lst\n",
    "\n",
    "lst = alphabet_sort('bag,hello,without,world')\n",
    "string = \",\".join(lst)\n",
    "print(string)\n",
    "\n",
    "    "
   ]
  },
  {
   "cell_type": "markdown",
   "metadata": {},
   "source": [
    "Question 4:\n",
    "Write a program that accepts a sequence of whitespace separated words as input and prints the words after removing all duplicate words and sorting them alphanumerically.\n",
    "\n",
    "Suppose the following input is supplied to the program:\n",
    "\n",
    "hello world and practice makes perfect and hello world again\n",
    "\n",
    "Then, the output should be:\n",
    "\n",
    "again and hello makes perfect practice world\n",
    "\n",
    "\n"
   ]
  },
  {
   "cell_type": "code",
   "execution_count": 18,
   "metadata": {},
   "outputs": [
    {
     "name": "stdout",
     "output_type": "stream",
     "text": [
      "again and hello makes perfect practice world\n"
     ]
    }
   ],
   "source": [
    "def sort_alphanumerically(words):\n",
    "    li = list(words.split(\" \"))\n",
    "    lst = list(set(li))\n",
    "    final_lst = sorted(lst)\n",
    "    return final_lst\n",
    "\n",
    "lst = sort_alphanumerically('hello world and practice makes perfect and hello world again')\n",
    "string = \" \".join(lst)\n",
    "print(string)"
   ]
  },
  {
   "cell_type": "markdown",
   "metadata": {},
   "source": [
    "Question 5:\n",
    "Write a program that accepts a sentence and calculate the number of letters and digits.\n",
    "\n",
    "Suppose the following input is supplied to the program:\n",
    "\n",
    "hello world! 123\n",
    "\n",
    "Then, the output should be:\n",
    "\n",
    "LETTERS 10\n",
    "\n",
    "DIGITS 3\n"
   ]
  },
  {
   "cell_type": "code",
   "execution_count": 20,
   "metadata": {},
   "outputs": [
    {
     "name": "stdout",
     "output_type": "stream",
     "text": [
      "LETTERS : 10\n",
      "DIGITS : 3\n"
     ]
    }
   ],
   "source": [
    "def count(string):\n",
    "    alphabets = digits = special = 0\n",
    "\n",
    "    for i in range(len(string)):\n",
    "        if(string[i].isalpha()):\n",
    "            alphabets = alphabets + 1\n",
    "        elif(string[i].isdigit()):\n",
    "            digits = digits + 1\n",
    "    print(f\"LETTERS : {alphabets}\\nDIGITS : {digits}\")\n",
    "\n",
    "count(\"hello world! 123\")"
   ]
  },
  {
   "cell_type": "markdown",
   "metadata": {},
   "source": [
    "Question 6:\n",
    "A website requires the users to input username and password to register. Write a program to check the validity of password input by users.\n",
    "\n",
    "Following are the criteria for checking the password:\n",
    "\n",
    "1. At least 1 letter between [a-z]\n",
    "\n",
    "2. At least 1 number between [0-9]\n",
    "\n",
    "1. At least 1 letter between [A-Z]\n",
    "\n",
    "3. At least 1 character from [$#@]\n",
    "\n",
    "4. Minimum length of transaction password: 6\n",
    "\n",
    "5. Maximum length of transaction password: 12\n",
    "\n",
    "Your program should accept a sequence of comma separated passwords and will check them according to the above criteria. Passwords that match the criteria are to be printed, each separated by a comma.\n",
    "\n",
    "Example\n",
    "\n",
    "If the following passwords are given as input to the program:\n",
    "\n",
    "ABd1234@1,a F1#,2w3E*,2We3345\n",
    "\n",
    "Then, the output of the program should be:\n",
    "\n",
    "ABd1234@1\n"
   ]
  },
  {
   "cell_type": "code",
   "execution_count": 29,
   "metadata": {},
   "outputs": [
    {
     "name": "stdout",
     "output_type": "stream",
     "text": [
      "ABd1234@1\n"
     ]
    }
   ],
   "source": [
    "import re\n",
    "def create_password(password):\n",
    "    li = list(password.split(\",\"))\n",
    "    accepted_pass = []\n",
    "    for i in li:\n",
    "        \n",
    "        if len(i) < 6 or len(i) > 12:\n",
    "            continue\n",
    "\n",
    "        elif not re.search(\"([a-z])+\", i):\n",
    "            continue\n",
    "\n",
    "        elif not re.search(\"([A-Z])+\", i):\n",
    "            continue\n",
    "\n",
    "        elif not re.search(\"([0-9])+\", i):\n",
    "            continue\n",
    "\n",
    "        elif not re.search(\"([$#@])+\", i):\n",
    "            continue\n",
    "\n",
    "        else:\n",
    "            accepted_pass.append(i)\n",
    "            \n",
    "    return accepted_pass\n",
    "\n",
    "final_lst = create_password('ABd1234@1,a F1#,2w3E*,2We3345')\n",
    "\n",
    "string = \",\".join(final_lst)\n",
    "print(string)"
   ]
  }
 ],
 "metadata": {
  "interpreter": {
   "hash": "c58b8a724218bdb10f6d6531e7b61d6abdedeedc5a7749bb21afeaa1c650a9bb"
  },
  "kernelspec": {
   "display_name": "Python 3.8.5 64-bit",
   "language": "python",
   "name": "python3"
  },
  "language_info": {
   "codemirror_mode": {
    "name": "ipython",
    "version": 3
   },
   "file_extension": ".py",
   "mimetype": "text/x-python",
   "name": "python",
   "nbconvert_exporter": "python",
   "pygments_lexer": "ipython3",
   "version": "3.8.5"
  },
  "orig_nbformat": 4
 },
 "nbformat": 4,
 "nbformat_minor": 2
}
