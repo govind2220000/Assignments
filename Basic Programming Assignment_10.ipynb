{
 "cells": [
  {
   "cell_type": "markdown",
   "metadata": {},
   "source": [
    "# Write a Python program to find sum of elements in list?"
   ]
  },
  {
   "cell_type": "code",
   "execution_count": 1,
   "metadata": {},
   "outputs": [],
   "source": [
    "import pyinputplus as pi"
   ]
  },
  {
   "cell_type": "code",
   "execution_count": 5,
   "metadata": {},
   "outputs": [
    {
     "name": "stdout",
     "output_type": "stream",
     "text": [
      "Enter how much number would you like to have: \n",
      "Blank values are not allowed.\n",
      "Enter how much number would you like to have: \n",
      "Blank values are not allowed.\n",
      "Enter how much number would you like to have: \n",
      "Blank values are not allowed.\n",
      "Enter how much number would you like to have: 4\n",
      "Enter number : 4\n",
      "Enter number : 4\n",
      "Enter number : 4\n",
      "Enter number : 4\n",
      "The sum of elements in the list is: 16\n"
     ]
    }
   ],
   "source": [
    "x = pi.inputInt(prompt='Enter how much number would you like to have: ',blank=False)\n",
    "lst = []\n",
    "for i in range(x):\n",
    "    x1 = pi.inputInt(prompt='Enter number : ',blank=False)\n",
    "    lst.append(x1)\n",
    "\n",
    "print(\"The sum of elements in the list is: {}\".format(sum(lst)))\n",
    "\n",
    "    \n"
   ]
  },
  {
   "cell_type": "markdown",
   "metadata": {},
   "source": [
    "# Write a Python program to  Multiply all numbers in the list?"
   ]
  },
  {
   "cell_type": "code",
   "execution_count": 7,
   "metadata": {},
   "outputs": [
    {
     "name": "stdout",
     "output_type": "stream",
     "text": [
      "Enter how much number would you like to have: 5\n",
      "Enter number : 5\n",
      "Enter number : 4\n",
      "Enter number : 3\n",
      "Enter number : 2\n",
      "Enter number : 1\n",
      "The multipltication of all elements in the list is: 120\n"
     ]
    }
   ],
   "source": [
    "x = pi.inputInt(prompt='Enter how much number would you like to have: ',blank=False)\n",
    "lst = []\n",
    "for i in range(x):\n",
    "    x1 = pi.inputInt(prompt='Enter number : ',blank=False)\n",
    "    lst.append(x1)\n",
    "m = 1\n",
    "for i in lst:\n",
    "    m = m*i\n",
    "\n",
    "print(\"The multipltication of all elements in the list is: {}\".format(m))\n"
   ]
  },
  {
   "cell_type": "markdown",
   "metadata": {},
   "source": [
    "# Write a Python program to find smallest number in a list?"
   ]
  },
  {
   "cell_type": "code",
   "execution_count": 10,
   "metadata": {},
   "outputs": [
    {
     "name": "stdout",
     "output_type": "stream",
     "text": [
      "Enter how much number would you like to have: 5\n",
      "Enter number : 99\n",
      "Enter number : 458\n",
      "Enter number : 69\n",
      "Enter number : 126\n",
      "Enter number : 336\n",
      "The smallest number of all elements in the list is: 69\n"
     ]
    }
   ],
   "source": [
    "x = pi.inputInt(prompt='Enter how much number would you like to have: ',blank=False)\n",
    "lst = []\n",
    "for i in range(x):\n",
    "    x1 = pi.inputInt(prompt='Enter number : ',blank=False)\n",
    "    lst.append(x1)\n",
    "print(\"The smallest number of all elements in the list is: {}\".format(min(lst)))"
   ]
  },
  {
   "cell_type": "markdown",
   "metadata": {},
   "source": [
    "# Write a Python program to find largest number in a list?"
   ]
  },
  {
   "cell_type": "code",
   "execution_count": 11,
   "metadata": {},
   "outputs": [
    {
     "name": "stdout",
     "output_type": "stream",
     "text": [
      "Enter how much number would you like to have: 5\n",
      "Enter number : 99\n",
      "Enter number : 87\n",
      "Enter number : 109\n",
      "Enter number : 489\n",
      "Enter number : 567\n",
      "The largest number of all elements in the list is: 567\n"
     ]
    }
   ],
   "source": [
    "x = pi.inputInt(prompt='Enter how much number would you like to have: ',blank=False)\n",
    "lst = []\n",
    "for i in range(x):\n",
    "    x1 = pi.inputInt(prompt='Enter number : ',blank=False)\n",
    "    lst.append(x1)\n",
    "print(\"The largest number of all elements in the list is: {}\".format(max(lst)))"
   ]
  },
  {
   "cell_type": "markdown",
   "metadata": {},
   "source": [
    "# Write a Python program to find second largest number in a list?"
   ]
  },
  {
   "cell_type": "code",
   "execution_count": 18,
   "metadata": {},
   "outputs": [
    {
     "name": "stdout",
     "output_type": "stream",
     "text": [
      "Enter how much number would you like to have: 5\n",
      "Enter number : 55\n",
      "Enter number : 98\n",
      "Enter number : 745\n",
      "Enter number : 6981\n",
      "Enter number : 32156879+\n",
      "'32156879+' is not an integer.\n",
      "Enter number : 7815\n",
      "[55, 98, 745, 6981, 7815]\n",
      "The second largest number of all elements in the list is: 6981\n"
     ]
    }
   ],
   "source": [
    "x = pi.inputInt(prompt='Enter how much number would you like to have: ',blank=False)\n",
    "lst = []\n",
    "for i in range(x):\n",
    "    x1 = pi.inputInt(prompt='Enter number : ',blank=False)\n",
    "    lst.append(x1)\n",
    "lst.sort()\n",
    "print(lst)\n",
    "print(\"The second largest number of all elements in the list is: {}\".format(lst[-2]))"
   ]
  },
  {
   "cell_type": "code",
   "execution_count": 14,
   "metadata": {},
   "outputs": [
    {
     "data": {
      "text/plain": [
       "[2, 3, 11]"
      ]
     },
     "execution_count": 14,
     "metadata": {},
     "output_type": "execute_result"
    }
   ],
   "source": [
    "l =[11,2,3]\n",
    "a1 = l.sort()\n",
    "l"
   ]
  },
  {
   "cell_type": "markdown",
   "metadata": {},
   "source": [
    "# Write a Python program to find N largest elements from a list?"
   ]
  },
  {
   "cell_type": "code",
   "execution_count": 21,
   "metadata": {},
   "outputs": [
    {
     "name": "stdout",
     "output_type": "stream",
     "text": [
      "Enter how much number would you like to have: 8\n",
      "Enter number : 7\n",
      "Enter number : 69\n",
      "Enter number : 59\n",
      "Enter number : 41\n",
      "Enter number : 15\n",
      "Enter number : 69\n",
      "Enter number : 85\n",
      "Enter number : 48\n",
      "Enter how many largest number would you like to have from the list: 5\n",
      "The largest numbers are: [48, 59, 69, 69, 85] \n"
     ]
    }
   ],
   "source": [
    "x = pi.inputInt(prompt='Enter how much number would you like to have: ',blank=False)\n",
    "lst = []\n",
    "for i in range(x):\n",
    "    x1 = pi.inputInt(prompt='Enter number : ',blank=False)\n",
    "    lst.append(x1)\n",
    "lst.sort()\n",
    "x1 = pi.inputInt(prompt='Enter how many largest number would you like to have from the list: ',blank=False)\n",
    "print(\"The largest numbers are: {} \".format(lst[-x1:]))\n",
    "    "
   ]
  },
  {
   "cell_type": "markdown",
   "metadata": {},
   "source": [
    "# Write a Python program to print even numbers in a list?"
   ]
  },
  {
   "cell_type": "code",
   "execution_count": 26,
   "metadata": {},
   "outputs": [
    {
     "name": "stdout",
     "output_type": "stream",
     "text": [
      "Enter how much number would you like to have: 5\n",
      "Enter number : 98\n",
      "Enter number : 78\n",
      "Enter number : 66\n",
      "Enter number : 25\n",
      "Enter number : 29\n",
      "This is even number: 98\n",
      "This is even number: 78\n",
      "This is even number: 66\n"
     ]
    }
   ],
   "source": [
    "x = pi.inputInt(prompt='Enter how much number would you like to have: ',blank=False)\n",
    "lst = []\n",
    "for i in range(x):\n",
    "    x1 = pi.inputInt(prompt='Enter number : ',blank=False)\n",
    "    lst.append(x1)\n",
    "for i in lst:\n",
    "    if i % 2 == 0:\n",
    "        print(\"This is even number: {}\".format(i))"
   ]
  },
  {
   "cell_type": "markdown",
   "metadata": {},
   "source": [
    "# Write a Python program to print odd numbers in a List?"
   ]
  },
  {
   "cell_type": "code",
   "execution_count": 27,
   "metadata": {},
   "outputs": [
    {
     "name": "stdout",
     "output_type": "stream",
     "text": [
      "Enter how much number would you like to have: 5\n",
      "Enter number : 97\n",
      "Enter number : 107\n",
      "Enter number : 6\n",
      "Enter number : 27\n",
      "Enter number : 108\n",
      "This is odd number: 97\n",
      "This is odd number: 107\n",
      "This is odd number: 27\n"
     ]
    }
   ],
   "source": [
    "x = pi.inputInt(prompt='Enter how much number would you like to have: ',blank=False)\n",
    "lst = []\n",
    "for i in range(x):\n",
    "    x1 = pi.inputInt(prompt='Enter number : ',blank=False)\n",
    "    lst.append(x1)\n",
    "for i in lst:\n",
    "    if i % 2 != 0:\n",
    "        print(\"This is odd number: {}\".format(i))"
   ]
  },
  {
   "cell_type": "markdown",
   "metadata": {},
   "source": [
    "# Write a Python program to Remove empty List from List?"
   ]
  },
  {
   "cell_type": "code",
   "execution_count": 35,
   "metadata": {},
   "outputs": [
    {
     "name": "stdout",
     "output_type": "stream",
     "text": [
      "The original list is : [5, 6, [], 3, [], [], 9]\n",
      "List after empty list removal : [5, 6, 3, 9]\n"
     ]
    }
   ],
   "source": [
    "lst =[5, 6, [], 3, [], [], 9]\n",
    "print(\"The original list is : \" + str(lst))\n",
    "res = [ele for ele in lst if ele != []]\n",
    "  \n",
    "\n",
    "print (\"List after empty list removal : \" + str(res))"
   ]
  },
  {
   "cell_type": "markdown",
   "metadata": {},
   "source": [
    "# Write a Python program to Cloning or Copying a list?"
   ]
  },
  {
   "cell_type": "code",
   "execution_count": 37,
   "metadata": {},
   "outputs": [
    {
     "name": "stdout",
     "output_type": "stream",
     "text": [
      "2471451246080 2471451244800\n"
     ]
    }
   ],
   "source": [
    "lst = [5,6,7,'eqwrw',True]\n",
    "\n",
    "lst1 = lst.copy()\n",
    "\n",
    "print(id(lst),id(lst1))"
   ]
  },
  {
   "cell_type": "markdown",
   "metadata": {},
   "source": [
    "# Write a Python program to Count occurrences of an element in a list?"
   ]
  },
  {
   "cell_type": "code",
   "execution_count": 43,
   "metadata": {},
   "outputs": [
    {
     "name": "stdout",
     "output_type": "stream",
     "text": [
      "Enter how much number OF DATA would you like to have: 5\n",
      "Enter DATA : 77\n",
      "Enter DATA : 77\n",
      "Enter DATA : 77\n",
      "Enter DATA : 89\n",
      "Enter DATA : 99\n",
      "Enter which element would you like to count: 77\n",
      "The element 77 is present 3 number of times\n"
     ]
    }
   ],
   "source": [
    "x = pi.inputInt(prompt='Enter how much number OF DATA would you like to have: ',blank=False)\n",
    "lst = []\n",
    "for i in range(x):\n",
    "    x1 = pi.inputInt(prompt='Enter DATA : ',blank=False)\n",
    "    lst.append(x1)\n",
    "    \n",
    "x1 = pi.inputInt(prompt='Enter which element would you like to count: ',blank=False)\n",
    "\n",
    "print(\"The element {} is present {} number of times\".format(x1,lst.count(x1)))"
   ]
  }
 ],
 "metadata": {
  "kernelspec": {
   "display_name": "Python 3",
   "language": "python",
   "name": "python3"
  },
  "language_info": {
   "codemirror_mode": {
    "name": "ipython",
    "version": 3
   },
   "file_extension": ".py",
   "mimetype": "text/x-python",
   "name": "python",
   "nbconvert_exporter": "python",
   "pygments_lexer": "ipython3",
   "version": "3.8.5"
  }
 },
 "nbformat": 4,
 "nbformat_minor": 4
}
