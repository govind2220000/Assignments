{
 "cells": [
  {
   "cell_type": "code",
   "execution_count": 1,
   "metadata": {},
   "outputs": [],
   "source": [
    "#Write a Python Program to Find the Factorial of a Number?\n",
    "#Write a Python Program to Display the multiplication Table?\n",
    "#Write a Python Program to Print the Fibonacci sequence?\n",
    "#Write a Python Program to Check Armstrong Number?\n",
    "#Write a Python Program to Find Armstrong Number in an Interval?\n",
    "#Write a Python Program to Find the Sum of Natural Numbers?\n"
   ]
  },
  {
   "cell_type": "markdown",
   "metadata": {},
   "source": [
    "# Write a Python Program to Find the Factorial of a Number?"
   ]
  },
  {
   "cell_type": "code",
   "execution_count": null,
   "metadata": {},
   "outputs": [],
   "source": [
    "n = int(input(\"ENTER THE NUMBER: \"))\n",
    "\n",
    "fact = 1\n",
    "for i in range(1,n+1):\n",
    "    fact = fact*i\n",
    "print(\"Factorial of number {} is {}\".format(n,fact))"
   ]
  },
  {
   "cell_type": "markdown",
   "metadata": {},
   "source": [
    "# Write a Python Program to Display the multiplication Table?\n"
   ]
  },
  {
   "cell_type": "code",
   "execution_count": null,
   "metadata": {},
   "outputs": [],
   "source": [
    "n = int(input(\"ENTER THE NUMBER FOR MULTIPLICATION TABLE: \"))\n",
    "\n",
    "for i in range(1,11):\n",
    "    table = n*i\n",
    "    print(\"{}*{}={}\".format(n,i,table))\n",
    "\n",
    "    "
   ]
  },
  {
   "cell_type": "markdown",
   "metadata": {},
   "source": [
    "# Write a Python Program to Print the Fibonacci sequence?"
   ]
  },
  {
   "cell_type": "code",
   "execution_count": null,
   "metadata": {
    "scrolled": false
   },
   "outputs": [],
   "source": [
    "terms = int(input(\"Enter how many terms of fibonacci do you want: \"))\n",
    "\n",
    "f1 = 0\n",
    "f2 = 1\n",
    "\n",
    "count = 0\n",
    "\n",
    "if terms <= 0:\n",
    "    print(\"Please enter positive integer to get sequence\")\n",
    "elif terms == 1:\n",
    "    print(\"The fibonacci sequence is {}\".format(f1))\n",
    "else:\n",
    "    while count < terms:\n",
    "        print(f1)\n",
    "        fsum = f1 + f2\n",
    "        f1 = f2\n",
    "        f2 = fsum\n",
    "        count += 1\n",
    "        "
   ]
  },
  {
   "cell_type": "markdown",
   "metadata": {},
   "source": [
    "# Write a Python Program to Check Armstrong Number?"
   ]
  },
  {
   "cell_type": "code",
   "execution_count": 22,
   "metadata": {},
   "outputs": [
    {
     "name": "stdout",
     "output_type": "stream",
     "text": [
      "Enter number:371\n",
      "371 is an Armstrong number\n"
     ]
    }
   ],
   "source": [
    "n = input(\"Enter number:\")\n",
    "temp = int(n)\n",
    "length = len(str(n))\n",
    "d = 0\n",
    "for i in range(len(n)):\n",
    "    c=int(n[i])\n",
    "    \n",
    "    d = d + (c**length)\n",
    "    \n",
    "#print(\"n is {} , temp is {} and d is {}\".format(n,temp,d))\n",
    "\n",
    "if temp == d:\n",
    "    print(n,\"is an Armstrong number\")\n",
    "else:\n",
    "    print(n,\"is not an Armstrong number\")\n",
    "    \n",
    "\n"
   ]
  },
  {
   "cell_type": "code",
   "execution_count": null,
   "metadata": {},
   "outputs": [],
   "source": []
  },
  {
   "cell_type": "markdown",
   "metadata": {},
   "source": [
    "# Write a Python Program to Find Armstrong Number in an Interval?"
   ]
  },
  {
   "cell_type": "code",
   "execution_count": 9,
   "metadata": {},
   "outputs": [
    {
     "name": "stdout",
     "output_type": "stream",
     "text": [
      "Enter the starting range of number:200\n",
      "Enter the ending range of number:2000\n",
      "370\n",
      "371\n",
      "407\n",
      "1634\n"
     ]
    }
   ],
   "source": [
    "n1 = int(input(\"Enter the starting range of number:\"))\n",
    "n2 = int(input(\"Enter the ending range of number:\"))\n",
    "\n",
    "for i in range(n1, n2 + 1):\n",
    "    length = len(str(i))\n",
    "    sum = 0\n",
    "    temp = i\n",
    "    while temp > 0:\n",
    "        digit = temp % 10\n",
    "        sum += digit ** length\n",
    "        temp //= 10\n",
    "    if i == sum:\n",
    "        print(i)\n"
   ]
  },
  {
   "cell_type": "code",
   "execution_count": 13,
   "metadata": {},
   "outputs": [
    {
     "data": {
      "text/plain": [
       "1634"
      ]
     },
     "execution_count": 13,
     "metadata": {},
     "output_type": "execute_result"
    }
   ],
   "source": [
    "1*1*1*1 + 6*6*6*6 + 3*3*3*3 + 4*4*4*4  "
   ]
  },
  {
   "cell_type": "markdown",
   "metadata": {},
   "source": [
    "# Write a Python Program to Find the Sum of Natural Numbers?\n"
   ]
  },
  {
   "cell_type": "code",
   "execution_count": null,
   "metadata": {},
   "outputs": [],
   "source": [
    "number = int(input(\"Enter how many numbers to get sum of natural numbers : \"))\n",
    "\n",
    "if number <= 0:\n",
    "    print(\"please enter positive number\")\n",
    "else:\n",
    "    sum = 0\n",
    "    for i in range(1,number+1):\n",
    "        sum = sum + i\n",
    "print(sum)"
   ]
  },
  {
   "cell_type": "code",
   "execution_count": null,
   "metadata": {},
   "outputs": [],
   "source": []
  }
 ],
 "metadata": {
  "kernelspec": {
   "display_name": "Python 3",
   "language": "python",
   "name": "python3"
  },
  "language_info": {
   "codemirror_mode": {
    "name": "ipython",
    "version": 3
   },
   "file_extension": ".py",
   "mimetype": "text/x-python",
   "name": "python",
   "nbconvert_exporter": "python",
   "pygments_lexer": "ipython3",
   "version": "3.8.5"
  }
 },
 "nbformat": 4,
 "nbformat_minor": 4
}
