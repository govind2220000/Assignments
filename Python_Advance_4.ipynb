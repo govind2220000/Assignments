{
 "cells": [
  {
   "cell_type": "markdown",
   "metadata": {},
   "source": [
    "Q1. Which two operator overloading methods can you use in your classes to support iteration?\n",
    "Ans. We can use the __iter__ returns the iterator object and is implicitly called at the start of loops. The __next__ method returns the next value and is implicitly called at each loop increment.\n",
    "\n",
    "\n",
    "Q2. In what contexts do the two operator overloading methods manage printing?\n",
    "Ans. The __iter__() method returns the iterator object itself. If required, some initialization can be performed.\n",
    "\n",
    "The __next__() method must return the next item in the sequence. On reaching the end, and in subsequent calls, it must raise StopIteration.\n",
    "\n",
    "When we call print(__next__(iterator obj)) it will print next value in sequence\n",
    "\n",
    "\n",
    "\n",
    "Q3. In a class, how do you intercept slice operations?\n",
    "Ans. In class slice operations is intercepted using __setslice__, __delslice__, and __getslice__.\n",
    "\n",
    "\n",
    "\n",
    "Q4. In a class, how do you capture in-place addition?\n",
    "\n",
    "Ans. In a class it is done using iadd() method\n",
    "This function is used to assign the current value and add them. This operator does x+=y operation. In case of strings, numbers assigning is not performed.\n",
    "\n",
    "\n",
    "\n",
    "Q5. When is it appropriate to use operator overloading?\n",
    "Ans. Operator overloading is mostly useful when you're making a new class that falls into an existing \"Abstract Base Class\" (ABC).\n",
    "\n"
   ]
  }
 ],
 "metadata": {
  "language_info": {
   "name": "python"
  },
  "orig_nbformat": 4
 },
 "nbformat": 4,
 "nbformat_minor": 2
}
