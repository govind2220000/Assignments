{
 "cells": [
  {
   "cell_type": "code",
   "execution_count": 18,
   "metadata": {},
   "outputs": [
    {
     "name": "stdout",
     "output_type": "stream",
     "text": [
      "***************1***************\n",
      "***************2***************\n",
      "2022-01-21\n",
      "***************3***************\n",
      "2022-01-21\n",
      "***************4***************\n",
      "['.git', 'a.py', 'Adavance Programming Assignment_10.ipynb', 'Adavance Programming Assignment_11.ipynb', 'Adavance Programming Assignment_2.ipynb', 'Adavance Programming Assignment_3.ipynb', 'Adavance Programming Assignment_4.ipynb', 'Adavance Programming Assignment_5.ipynb', 'Adavance Programming Assignment_6.ipynb', 'Adavance Programming Assignment_7.ipynb', 'Adavance Programming Assignment_8.ipynb', 'Adavance Programming Assignment_9.ipynb', 'Advance Programming assignment 13.ipynb', 'assignment_12.ipynb', 'Basic Programming Assignment_10.ipynb', 'Basic Programming Assignment_11.ipynb', 'Basic Programming Assignment_12.ipynb', 'Basic Programming Assignment_6.ipynb', 'Basic Programming Assignment_8.ipynb', 'Basic Programming_Assingment 4.ipynb', 'Basic Programming_Assingment7.ipynb', 'basic_8.ipynb', 'books.csv', 'books.db', 'books.db - Shortcut.lnk', 'cropped.png', 'cropped_img.png', 'multi_task.py', 'myfile.png', 'Programming Assignment_5.ipynb', 'ProgrammingBasic_9.ipynb', 'Python advance practical assignment 1.ipynb', 'Python Assignment-1.ipynb', 'Python basic assignment 10.ipynb', 'Python basic assignment 11.ipynb', 'Python basic assignment 12.ipynb', 'Python basic assignment 2.ipynb', 'Python basic assignment 5.ipynb', 'Python basic assignment 7.ipynb', 'Python basic assignment 9.ipynb', 'Python Basic Assignment-6.ipynb', 'python basic Assignment_3.ipynb', 'Python Basic Assignment_4.ipynb', 'Python basic programming assignment 3.ipynb', 'Python Programming Basic 1.ipynb', 'Python Programming Basic Assignment_2.ipynb', 'Python_Advance_4.ipynb', 'python_advance_assignment_1.ipynb', 'python_advance_assignment_2.ipynb', 'Python_advance_assignment_3.ipynb', 'python_advass_5.ipynb', 'python_advass_6.ipynb', 'Python_Basic_13.ipynb', 'python_basic_19.ipynb', 'python_basic_20.ipynb', 'python_basic_21.ipynb', 'python_basic_Assignment_14.ipynb', 'python_basic_ass_15.ipynb', 'python_basic_ass_16.ipynb', 'python_basic_ass_17.ipynb', 'python_basic_ass_18.ipynb', 'python_prog_basic_13.ipynb', 'python_prog_basic_14.ipynb', 'sql_ass_1.ipynb', 'sql_ass_10.ipynb', 'sql_ass_2.ipynb', 'sql_ass_3.ipynb', 'sql_ass_4.ipynb', 'sql_ass_5.ipynb', 'sql_ass_6.ipynb', 'sql_ass_7.ipynb', 'sql_ass_8.ipynb', 'sql_ass_9.ipynb', 'test.txt', 'today.txt', 'zoo.py', '__pycache__']\n",
      "***************5***************\n",
      "['Assignments']\n",
      "***************6***************\n",
      "***************7***************\n",
      "2000-04-02\n",
      "***************8***************\n",
      "6\n",
      "***************9***************\n",
      "2027-08-19\n"
     ]
    },
    {
     "name": "stderr",
     "output_type": "stream",
     "text": [
      "Python was not found; run without arguments to install from the Microsoft Store, or disable this shortcut from Settings > Manage App Execution Aliases.\n"
     ]
    }
   ],
   "source": [
    "# 1. Add the current date to the text file today.txt as a string.\n",
    "print((\"*\" * 15 + \"1\" + \"*\" * 15))\n",
    "import datetime\n",
    "with open(\"today.txt\", \"w\") as f:\n",
    "    f.write(str(datetime.date.today()))\n",
    "\n",
    "# 2. Read the text file today.txt into the string today_string\n",
    "print((\"*\" * 15 + \"2\" + \"*\" * 15))\n",
    "with open(\"today.txt\", \"r\") as f:\n",
    "    today_string = f.read()\n",
    "print(today_string)\n",
    "\n",
    "# 3. Parse the date from today_string.\n",
    "print((\"*\" * 15 + \"3\" + \"*\" * 15))\n",
    "from datetime import datetime\n",
    "today_date = datetime.strptime(today_string, \"%Y-%m-%d\").date()\n",
    "print(today_date)\n",
    "\n",
    "# 4. List the files in your current directory\n",
    "print((\"*\" * 15 + \"4\" + \"*\" * 15))\n",
    "import os\n",
    "print(os.listdir())\n",
    "\n",
    "# 5. Create a list of all of the files in your parent directory (minimum five files should be available).\n",
    "print((\"*\" * 15 + \"5\" + \"*\" * 15))\n",
    "parent_dir = os.path.dirname(os.getcwd())\n",
    "print(os.listdir(parent_dir))\n",
    "\n",
    "\n",
    "# 6. Use multiprocessing to create three separate processes. Make each one wait a random number of seconds between one and five, print the current time, and then exit.\n",
    "print((\"*\" * 15 + \"6\" + \"*\" * 15))\n",
    "!python3 multi_task.py\n",
    "\n",
    "# 7. Create a date object of your day of birth.\n",
    "print((\"*\" * 15 + \"7\" + \"*\" * 15))\n",
    "import datetime\n",
    "birthday = datetime.date(2000, 4, 2)\n",
    "print(birthday)\n",
    "\n",
    "# 8. What day of the week was your day of birth?\n",
    "print((\"*\" * 15 + \"8\" + \"*\" * 15))\n",
    "print(birthday.weekday())\n",
    "# 9. When will you be (or when were you) 10,000 days old?\n",
    "print((\"*\" * 15 + \"9\" + \"*\" * 15))\n",
    "print(birthday + datetime.timedelta(days=10000))"
   ]
  }
 ],
 "metadata": {
  "interpreter": {
   "hash": "c58b8a724218bdb10f6d6531e7b61d6abdedeedc5a7749bb21afeaa1c650a9bb"
  },
  "kernelspec": {
   "display_name": "Python 3.8.5 64-bit",
   "language": "python",
   "name": "python3"
  },
  "language_info": {
   "codemirror_mode": {
    "name": "ipython",
    "version": 3
   },
   "file_extension": ".py",
   "mimetype": "text/x-python",
   "name": "python",
   "nbconvert_exporter": "python",
   "pygments_lexer": "ipython3",
   "version": "3.8.5"
  },
  "orig_nbformat": 4
 },
 "nbformat": 4,
 "nbformat_minor": 2
}
