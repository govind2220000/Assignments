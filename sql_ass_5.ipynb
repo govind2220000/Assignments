{
 "cells": [
  {
   "cell_type": "markdown",
   "metadata": {},
   "source": [
    "Q-1. Write an SQL query to print details of workers excluding first names, “Vipul” and “Satish” from Worker table.\n",
    "Ans. SELECT FIRST_NAME FROM Worker where FIRST_NAME NOT IN ('Vipul','Satish') ;\n",
    "\n",
    "Q-2. Write an SQL query to print details of the Workers whose FIRST_NAME ends with ‘h’ and contains six alphabets.\n",
    "Ans. SELECT * FROM Worker WHERE FIRST_NAME LIKE '______H'\n",
    "\n",
    "Q-3. Write a query to validate Email of Employee.\n",
    "Ans. SELECT * FROM Worker\n",
    "    SELECT EMAIL,\n",
    "    CASE\n",
    "    WHEN EMAIL LIKE '%_@_%._%' THEN 'VALID'\n",
    "    ELSE\n",
    "    'INVALID'\n",
    "    END AS CHECKING FROM WORKERS\n",
    " \n",
    "\n"
   ]
  }
 ],
 "metadata": {
  "language_info": {
   "name": "python"
  },
  "orig_nbformat": 4
 },
 "nbformat": 4,
 "nbformat_minor": 2
}
