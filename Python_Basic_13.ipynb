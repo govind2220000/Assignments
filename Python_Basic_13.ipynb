{
 "cells": [
  {
   "cell_type": "markdown",
   "metadata": {},
   "source": [
    "1. What advantages do Excel spreadsheets have over CSV spreadsheets?\n",
    "Ans. In excel spreadsheets we can perform VBA coding, functions and formulas.Excel provides the user option for external linking of data from other sources and also user can od custom add-ins.\n",
    "\n",
    "\n",
    "\n",
    "2.What do you pass to csv.reader() and csv.writer() to create reader and writer objects?\n",
    "Ans. We will pass a csv file to to csv.reader() and csv.writer() to create reader and writer objects.\n",
    "\n",
    "\n",
    "3. What modes do File objects for reader and writer objects need to be opened in?\n",
    "Ans. Read and Write ('r+') : Open the file for reading and writing.\n",
    "Write and Read ('w+') : Open the file for reading and writing.\n",
    "a+ Open for reading and appending (writing at end of file). The file is created if it does not exist.\n",
    "\n",
    "\n",
    "4. What method takes a list argument and writes it to a CSV file?\n",
    "Ans. The csv. writer writerow method takes an iterable as an argument. Your result set has to be a list (rows) of lists (columns).\n",
    "\n",
    "5. What do the keyword arguments delimiter and line terminator do?\n",
    "Ans. The line terminator is the character that comes at the end of a row.\n",
    "The delimiter is the character that appears between cells on a row.\n",
    "\n",
    "6. What function takes a string of JSON data and returns a Python data structure?\n",
    "Ans. loads() method return Python data structure of JSON string or data.\n",
    "\n",
    "7. What function takes a Python data structure and returns a string of JSON data?\n",
    "Ans. json.dumps(data structure) takes a Python data structure and returns a string of JSON data.\n",
    "\n"
   ]
  }
 ],
 "metadata": {
  "interpreter": {
   "hash": "c58b8a724218bdb10f6d6531e7b61d6abdedeedc5a7749bb21afeaa1c650a9bb"
  },
  "kernelspec": {
   "display_name": "Python 3.8.5 64-bit",
   "language": "python",
   "name": "python3"
  },
  "language_info": {
   "codemirror_mode": {
    "name": "ipython",
    "version": 3
   },
   "file_extension": ".py",
   "mimetype": "text/x-python",
   "name": "python",
   "nbconvert_exporter": "python",
   "pygments_lexer": "ipython3",
   "version": "3.8.5"
  },
  "orig_nbformat": 4
 },
 "nbformat": 4,
 "nbformat_minor": 2
}
