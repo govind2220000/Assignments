{
 "cells": [
  {
   "cell_type": "markdown",
   "metadata": {},
   "source": [
    "Q-17. Write an SQL query to show the top n (say 10) records of a table.\n",
    "Ans. SELECT TOP 8 SALARY FROM WORKERS;\n",
    "\n",
    "\n",
    "Q-18. Write an SQL query to determine the nth (say n=5) highest salary from a table.\n",
    "Ans. SELECT TOP 1 SALARY FROM (SELECT DISTINCT TOP 5 SALARY AS SALARY FROM WORKERS ORDER BY Salary DESC) AS WORKERES ORDER BY SALARY ASC;"
   ]
  }
 ],
 "metadata": {
  "language_info": {
   "name": "python"
  },
  "orig_nbformat": 4
 },
 "nbformat": 4,
 "nbformat_minor": 2
}
