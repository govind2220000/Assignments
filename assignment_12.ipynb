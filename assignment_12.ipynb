{
 "cells": [
  {
   "cell_type": "markdown",
   "source": [
    "## 1. For this challenge, forget how to add two numbers together. The best explanation on what to do for this function is this meme:\r\n",
    "\r\n",
    "\r\n",
    "\r\n",
    "\r\n",
    "Examples\r\n",
    "\r\n",
    "meme_sum(26, 39) ➞ 515\r\n",
    "# 2+3 = 5, 6+9 = 15\r\n",
    "# 26 + 39 = 515\r\n",
    "\r\n",
    "meme_sum(122, 81) ➞ 1103\r\n",
    "# 1+0 = 1, 2+8 = 10, 2+1 = 3\r\n",
    "# 122 + 81 = 1103\r\n",
    "\r\n",
    "meme_sum(1222, 30277) ➞ 31499\r\n"
   ],
   "metadata": {}
  },
  {
   "cell_type": "code",
   "execution_count": 16,
   "source": [
    "def meme_sum(a,b):\r\n",
    "    a1,a2 = str(a), str(b)\r\n",
    "\r\n",
    "    len_a, len_b = len(a1), len(a2)\r\n",
    "\r\n",
    "    diff = max(len_a,len_b) - min(len_a, len_b)\r\n",
    "    if len_a>len_b:\r\n",
    "        a2 = '0'* diff + a2\r\n",
    "    else:\r\n",
    "        a1 = '0'* diff + a1\r\n",
    "    result = \"\"\r\n",
    "    for i in range(max(len_a,len_b)):\r\n",
    "        result += str(int(a1[i]) + int(a2[i]))\r\n",
    "    return result\r\n",
    "\r\n",
    "\r\n",
    "print(meme_sum(26, 39))\r\n",
    "print(meme_sum(122, 81))\r\n",
    "print(meme_sum(1222, 30277))"
   ],
   "outputs": [
    {
     "output_type": "stream",
     "name": "stdout",
     "text": [
      "515\n",
      "1103\n",
      "31499\n"
     ]
    }
   ],
   "metadata": {}
  },
  {
   "cell_type": "code",
   "execution_count": 6,
   "source": [
    "## 2. Given an integer, create a function that returns the next prime. If the number is prime, return the number itself.\r\n",
    "\r\n",
    "# Examples\r\n",
    "\r\n",
    "# next_prime(12) ➞ 13\r\n",
    "\r\n",
    "# next_prime(24) ➞ 29\r\n",
    "\r\n",
    "# next_prime(11) ➞ 11\r\n",
    "def next_prime(x):\r\n",
    "    from math import sqrt\r\n",
    "    isPrime = True\r\n",
    "    for i in range(2,int(sqrt(x)) + 1):\r\n",
    "        if x%i == 0:\r\n",
    "            isPrime = False\r\n",
    "        else:\r\n",
    "            True\r\n",
    "    count = x\r\n",
    "\r\n",
    "    while(not isPrime):\r\n",
    "        count += 1\r\n",
    "        for i in range(2,int(sqrt(count)) + 1):\r\n",
    "            if count%i == 0:\r\n",
    "                break\r\n",
    "        else:\r\n",
    "            isPrime = True\r\n",
    "    return count\r\n",
    "\r\n",
    "\r\n",
    "\r\n",
    "print(next_prime(12)) \r\n",
    "\r\n",
    "print(next_prime(24)) \r\n",
    "print(next_prime(11)) \r\n",
    "print(next_prime(10000))"
   ],
   "outputs": [
    {
     "output_type": "stream",
     "name": "stdout",
     "text": [
      "13\n",
      "29\n",
      "11\n",
      "10007\n"
     ]
    }
   ],
   "metadata": {}
  },
  {
   "cell_type": "markdown",
   "source": [
    "## 3. If a person traveled up a hill for 18mins at 20mph and then traveled back down the same path at 60mph then their average speed traveled was 30mph.\r\n",
    "\r\n",
    "Write a function that returns the average speed traveled given an uphill time, uphill rate and a downhill rate. Uphill time is given in minutes. Return the rate as an integer (mph). No rounding is necessary.\r\n",
    "\r\n",
    "Examples\r\n",
    "\r\n",
    "ave_spd(18, 20, 60) ➞ 30\r\n",
    "\r\n",
    "ave_spd(30, 10, 30) ➞ 15\r\n",
    "\r\n",
    "ave_spd(30, 8, 24) ➞ 12\r\n"
   ],
   "metadata": {}
  },
  {
   "cell_type": "code",
   "execution_count": 17,
   "source": [
    "def ave_spd(x,y,z):\r\n",
    "    return int(2*x*y/(x+y))\r\n",
    "\r\n",
    "print(ave_spd(18, 20, 60))\r\n",
    "print(ave_spd(30, 10, 30))\r\n",
    "print(ave_spd(30, 8, 24))\r\n"
   ],
   "outputs": [
    {
     "output_type": "stream",
     "name": "stdout",
     "text": [
      "18\n",
      "15\n",
      "12\n"
     ]
    }
   ],
   "metadata": {}
  },
  {
   "cell_type": "markdown",
   "source": [
    "## 4. The Kempner Function, applied to a composite number, permits to find the smallest integer greater than zero whose factorial is exactly divided by the number.\r\n",
    "\r\n",
    "kempner(6) ➞ 3\r\n",
    "\r\n",
    "1! = 1 % 6 > 0\r\n",
    "2! = 2 % 6 > 0\r\n",
    "3! = 6 % 6 === 0\r\n",
    "\r\n",
    "kempner(10) ➞ 5\r\n",
    "\r\n",
    "1! = 1 % 10 > 0\r\n",
    "2! = 2 % 10 > 0\r\n",
    "3! = 6 % 10 > 0\r\n",
    "4! = 24 % 10 > 0\r\n",
    "5! = 120 % 10 === 0\r\n",
    "\r\n",
    "A Kempner Function applied to a prime will always return the prime itself.\r\n",
    "\r\n",
    "kempner(2) ➞ 2\r\n",
    "kempner(5) ➞ 5\r\n",
    "\r\n",
    "Given an integer n, implement a Kempner Function.\r\n",
    "\r\n",
    "Examples\r\n",
    "\r\n",
    "kempner(6) ➞ 3\r\n",
    "\r\n",
    "kempner(10) ➞ 5\r\n",
    "\r\n",
    "kempner(2) ➞ 2\r\n"
   ],
   "metadata": {}
  },
  {
   "cell_type": "code",
   "execution_count": 18,
   "source": [
    "from math import sqrt\r\n",
    "\r\n",
    "def is_prime_num(a):\r\n",
    "    isPrime = True\r\n",
    "    for i in range(2, int(sqrt(a))+1):\r\n",
    "        if a%i == 0:\r\n",
    "            isPrime = False\r\n",
    "            break\r\n",
    "\r\n",
    "    return isPrime\r\n",
    "\r\n",
    "\r\n",
    "def fact(a):\r\n",
    "    if a <= 1:\r\n",
    "        return 1\r\n",
    "    return a * fact(a-1)\r\n",
    "\r\n",
    "\r\n",
    "def kempner(num):\r\n",
    "    if (is_prime_num(num)):\r\n",
    "        return num\r\n",
    "    cnt = 1\r\n",
    "    while True:\r\n",
    "        if fact(cnt)%num == 0:\r\n",
    "            break\r\n",
    "        cnt += 1\r\n",
    "    return cnt\r\n",
    "\r\n",
    "print(kempner(10))\r\n",
    "print(kempner(5))\r\n",
    "print(kempner(6))\r\n",
    "print(kempner(2))"
   ],
   "outputs": [
    {
     "output_type": "stream",
     "name": "stdout",
     "text": [
      "5\n",
      "5\n",
      "3\n",
      "2\n"
     ]
    }
   ],
   "metadata": {}
  },
  {
   "cell_type": "markdown",
   "source": [
    "5. You work in a factory, and your job is to take items from a conveyor belt and pack them into boxes. Each box can hold a maximum of 10 kgs. Given a list containing the weight (in kg) of each item, how many boxes would you need to pack all of the items?\r\n",
    "\r\n",
    "Example\r\n",
    "\r\n",
    "boxes([2, 1, 2, 5, 4, 3, 6, 1, 1, 9, 3, 2]) ➞ 5\r\n",
    "\r\n",
    "# Box 1 = [2, 1, 2, 5] (10kg)\r\n",
    "# Box 2 = [4, 3] (7kg)\r\n",
    "# Box 3 = [6, 1, 1] (8kg)\r\n",
    "# Box 4 = [9] (9kg)\r\n",
    "# Box 5 = [3, 2] (5kg)\r\n"
   ],
   "metadata": {}
  },
  {
   "cell_type": "code",
   "execution_count": 29,
   "source": [
    "box = [2, 1, 2, 5, 4, 3, 6, 1, 1, 9, 3, 2]\r\n",
    "knap = [0]\r\n",
    "count = 0\r\n",
    "for i in box:\r\n",
    "    if knap[count]+i<=10:\r\n",
    "        knap[count] += i\r\n",
    "    else:\r\n",
    "        count+=1\r\n",
    "        knap.append(0)\r\n",
    "        knap[count] += i \r\n",
    "len(knap)\r\n",
    "\r\n"
   ],
   "outputs": [
    {
     "output_type": "execute_result",
     "data": {
      "text/plain": [
       "5"
      ]
     },
     "metadata": {},
     "execution_count": 29
    }
   ],
   "metadata": {}
  }
 ],
 "metadata": {
  "orig_nbformat": 4,
  "language_info": {
   "name": "python",
   "version": "3.8.8",
   "mimetype": "text/x-python",
   "codemirror_mode": {
    "name": "ipython",
    "version": 3
   },
   "pygments_lexer": "ipython3",
   "nbconvert_exporter": "python",
   "file_extension": ".py"
  },
  "kernelspec": {
   "name": "python3",
   "display_name": "Python 3.8.8 64-bit ('base': conda)"
  },
  "interpreter": {
   "hash": "34dfee18d5f4a96df9a8fcc719c91cf50e8ed50de2aa108bf45cd20982063274"
  }
 },
 "nbformat": 4,
 "nbformat_minor": 2
}