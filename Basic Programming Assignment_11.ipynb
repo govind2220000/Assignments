{
 "cells": [
  {
   "cell_type": "markdown",
   "metadata": {},
   "source": [
    "# Write a Python program to find words which are greater than given length k?"
   ]
  },
  {
   "cell_type": "code",
   "execution_count": 4,
   "metadata": {},
   "outputs": [
    {
     "name": "stdout",
     "output_type": "stream",
     "text": [
      "Enter how much WORDS would you like to have: 5\n",
      "Enter 1 word : hello\n",
      "Enter 2 word : heeei\n",
      "Enter 3 word : heey\n",
      "Enter 4 word : hikeoq\n",
      "Enter 5 word : zebra\n",
      "Enter length : 4\n",
      "This are the word which are greater than your given length:  hello\n",
      "This are the word which are greater than your given length:  heeei\n",
      "This are the word which are greater than your given length:  hikeoq\n",
      "This are the word which are greater than your given length:  zebra\n"
     ]
    }
   ],
   "source": [
    "import pyinputplus as pi\n",
    "x = pi.inputInt(prompt='Enter how much WORDS would you like to have: ',blank=False)\n",
    "lst = []\n",
    "for i in range(1,x+1):\n",
    "    x1 = pi.inputStr(prompt='Enter {} word : '.format(i),blank=False)\n",
    "    lst.append(x1)\n",
    "    \n",
    "y = pi.inputInt(prompt='Enter length : ',blank=False)\n",
    "\n",
    "for i in lst:\n",
    "    if len(i)>y:\n",
    "        print(\"This are the word which are greater than your given length: \",i)"
   ]
  },
  {
   "cell_type": "markdown",
   "metadata": {},
   "source": [
    "# Write a Python program for removing i-th character from a string?"
   ]
  },
  {
   "cell_type": "code",
   "execution_count": 11,
   "metadata": {},
   "outputs": [
    {
     "name": "stdout",
     "output_type": "stream",
     "text": [
      "Enter  word : hello\n",
      "Enter the positiion for removing that character : 2\n",
      "Word after removing i-th character: helo\n"
     ]
    }
   ],
   "source": [
    "x1 = pi.inputStr(prompt='Enter  word : ',blank=False)\n",
    "y = pi.inputInt(prompt='Enter the positiion for removing that character : ',blank=False)\n",
    "for j in range(len(x1)):\n",
    "        if j == y:\n",
    "            x1 = x1.replace(x1[y], \"\", 1)\n",
    "print(\"Word after removing i-th character: {}\".format(x1))"
   ]
  },
  {
   "cell_type": "markdown",
   "metadata": {},
   "source": [
    "# Write a Python program to split and join a string?"
   ]
  },
  {
   "cell_type": "code",
   "execution_count": 21,
   "metadata": {},
   "outputs": [
    {
     "name": "stdout",
     "output_type": "stream",
     "text": [
      "Enter  words with space : hii hey how hello \n",
      "After splitting: ['hii', 'hey', 'how', 'hello'] \n",
      "Joining after splitting: hii-hey-how-hello\n"
     ]
    }
   ],
   "source": [
    "x1 = pi.inputStr(prompt='Enter  words with space : ',blank=False)\n",
    "x2 = x1.split(\" \")\n",
    "x3 = '-'.join(x2)\n",
    "\n",
    "print(\"After splitting: {} \".format(x2))\n",
    "print(\"Joining after splitting: {}\".format(x3))"
   ]
  },
  {
   "cell_type": "markdown",
   "metadata": {},
   "source": [
    "# Write a Python to check if a given string is binary string or not?"
   ]
  },
  {
   "cell_type": "code",
   "execution_count": 6,
   "metadata": {},
   "outputs": [
    {
     "name": "stdout",
     "output_type": "stream",
     "text": [
      "Enter  word : 10011001\n",
      "Yes\n"
     ]
    }
   ],
   "source": [
    "import pyinputplus as pi\n",
    "s = {'0','1'}\n",
    "x1 = pi.inputStr(prompt='Enter  word : ',blank=False)\n",
    "x1 = set(x1)\n",
    "if s == x1 or x1 == {'0'} or x1 == {'1'}:\n",
    "    print(\"Yes\")\n",
    "else:\n",
    "    print(\"No\")"
   ]
  },
  {
   "cell_type": "markdown",
   "metadata": {},
   "source": [
    "# Write a Python program to find uncommon words from two Strings?"
   ]
  },
  {
   "cell_type": "code",
   "execution_count": 10,
   "metadata": {},
   "outputs": [
    {
     "name": "stdout",
     "output_type": "stream",
     "text": [
      "Enter  words with space : hii how are you\n",
      "Enter  uncommon words with space : are you\n",
      " hii how\n"
     ]
    }
   ],
   "source": [
    "x1 = pi.inputStr(prompt='Enter  words with space : ',blank=False)\n",
    "x2 = pi.inputStr(prompt='Enter  uncommon words with space : ',blank=False)\n",
    "    \n",
    "list_a = x1.split()\n",
    "list_b = x2.split()\n",
    "uc = ''\n",
    "for i in list_a:\n",
    "    if i not in list_b:\n",
    "        uc = uc+\" \"+i\n",
    "    for j in list_b:\n",
    "        if j not in list_a:\n",
    "            uc = uc+\" \"+j\n",
    "print(uc)"
   ]
  },
  {
   "cell_type": "markdown",
   "metadata": {},
   "source": [
    "# Write a Python to find all duplicate characters in string?"
   ]
  },
  {
   "cell_type": "code",
   "execution_count": 24,
   "metadata": {},
   "outputs": [
    {
     "name": "stdout",
     "output_type": "stream",
     "text": [
      "Enter  string : qyewryw hxcvlj sdf\n",
      "y w  \n"
     ]
    }
   ],
   "source": [
    "x1 = pi.inputStr(prompt='Enter  string : ',blank=False)\n",
    "duplicates = []\n",
    "for i in x1:\n",
    "    if x1.count(i) > 1:\n",
    "        if i not in duplicates:\n",
    "            duplicates.append(i)\n",
    "print(*duplicates)"
   ]
  },
  {
   "cell_type": "markdown",
   "metadata": {},
   "source": [
    "# Write a Python Program to check if a string contains any special character?"
   ]
  },
  {
   "cell_type": "code",
   "execution_count": 27,
   "metadata": {},
   "outputs": [
    {
     "name": "stdout",
     "output_type": "stream",
     "text": [
      "Enter  string : @@@hieqiue&\n",
      "The string contains special characters.\n"
     ]
    }
   ],
   "source": [
    "import re\n",
    "x1 = pi.inputStr(prompt='Enter  string : ',blank=False)\n",
    " \n",
    "# special characters\n",
    "special_char = re.compile('[@_!#$%^&*()<>?/\\|}{~:]')\n",
    "\n",
    "# check string contains special characters or not\n",
    "if(special_char.search(x1) == None):\n",
    "    print('String does not contain any special characters .')\n",
    "else:\n",
    "    print('The string contains special characters.')"
   ]
  },
  {
   "cell_type": "code",
   "execution_count": null,
   "metadata": {},
   "outputs": [],
   "source": []
  },
  {
   "cell_type": "code",
   "execution_count": null,
   "metadata": {},
   "outputs": [],
   "source": []
  },
  {
   "cell_type": "code",
   "execution_count": null,
   "metadata": {},
   "outputs": [],
   "source": []
  },
  {
   "cell_type": "code",
   "execution_count": null,
   "metadata": {},
   "outputs": [],
   "source": []
  }
 ],
 "metadata": {
  "kernelspec": {
   "display_name": "Python 3",
   "language": "python",
   "name": "python3"
  },
  "language_info": {
   "codemirror_mode": {
    "name": "ipython",
    "version": 3
   },
   "file_extension": ".py",
   "mimetype": "text/x-python",
   "name": "python",
   "nbconvert_exporter": "python",
   "pygments_lexer": "ipython3",
   "version": "3.8.5"
  }
 },
 "nbformat": 4,
 "nbformat_minor": 4
}
