{
 "cells": [
  {
   "cell_type": "markdown",
   "metadata": {},
   "source": [
    "QQ-1. Write an SQL query to fetch “FIRST_NAME” from Worker table using the alias\n",
    "name as <WORKER_NAME>.\n",
    "\n",
    "Ans. Select FIRST_NAME AS WORKER_NAME from Worker;\n",
    "\n",
    "Q-2. Write an SQL query to fetch unique values of DEPARTMENT from Worker table.\n",
    "\n",
    "Ans. Select distinct DEPARTMENT from Worker;\n",
    "\n",
    "Q-3. Write an SQL query to show the last 5 record from a table.\n",
    "\n",
    "Ans. (SELECT * FROM <table_name> ORDER BY <id_column> DESC LIMIT <no. of rows to retrieve>)\n",
    "ORDER BY <id_column> ASC;\n"
   ]
  }
 ],
 "metadata": {
  "language_info": {
   "name": "python"
  },
  "orig_nbformat": 4
 },
 "nbformat": 4,
 "nbformat_minor": 2
}
