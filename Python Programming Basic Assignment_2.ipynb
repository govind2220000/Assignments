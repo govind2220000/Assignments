{
 "cells": [
  {
   "cell_type": "code",
   "execution_count": 1,
   "metadata": {},
   "outputs": [],
   "source": [
    "#Write a Python program to convert kilometers to miles?\n",
    "#Write a Python program to convert Celsius to Fahrenheit?\n",
    "#Write a Python program to display calendar?\n",
    "#Write a Python program to solve quadratic equation?\n",
    "#Write a Python program to swap two variables without temp variable?\n"
   ]
  },
  {
   "cell_type": "markdown",
   "metadata": {},
   "source": [
    "# Write a Python program to convert kilometers to miles?"
   ]
  },
  {
   "cell_type": "code",
   "execution_count": 2,
   "metadata": {
    "scrolled": true
   },
   "outputs": [
    {
     "name": "stdout",
     "output_type": "stream",
     "text": [
      "Enter the distance in kilometers:15\n",
      "The distance in miles:9.321 \n"
     ]
    }
   ],
   "source": [
    "km = float(input(\"Enter the distance in kilometers:\"))\n",
    "miles = km*0.6214\n",
    "\n",
    "print(\"The distance in miles:{} \".format(miles))"
   ]
  },
  {
   "cell_type": "markdown",
   "metadata": {},
   "source": [
    "# Write a Python program to convert Celsius to Fahrenheit?"
   ]
  },
  {
   "cell_type": "code",
   "execution_count": 3,
   "metadata": {},
   "outputs": [
    {
     "name": "stdout",
     "output_type": "stream",
     "text": [
      "Enter the temperature in Celsius:321\n",
      "The temperature in Fahrenheit is: 609.8000000000001\n"
     ]
    }
   ],
   "source": [
    "celsius = float(input(\"Enter the temperature in Celsius:\"))\n",
    "fahrenheit = (celsius*1.8)+32\n",
    "\n",
    "print(\"The temperature in Fahrenheit is: {}\".format(fahrenheit))"
   ]
  },
  {
   "cell_type": "markdown",
   "metadata": {},
   "source": [
    "# Write a Python program to display calendar?"
   ]
  },
  {
   "cell_type": "code",
   "execution_count": 4,
   "metadata": {},
   "outputs": [
    {
     "name": "stdout",
     "output_type": "stream",
     "text": [
      "Enter year: 2021\n",
      "Enter month: 12\n",
      "   December 2021\n",
      "Mo Tu We Th Fr Sa Su\n",
      "       1  2  3  4  5\n",
      " 6  7  8  9 10 11 12\n",
      "13 14 15 16 17 18 19\n",
      "20 21 22 23 24 25 26\n",
      "27 28 29 30 31\n",
      "\n"
     ]
    }
   ],
   "source": [
    "import calendar\n",
    "\n",
    "year = int(input(\"Enter year: \"))\n",
    "month = int(input(\"Enter month: \"))\n",
    "\n",
    "print(calendar.month(year, month))\n"
   ]
  },
  {
   "cell_type": "markdown",
   "metadata": {},
   "source": [
    "# Write a Python program to solve quadratic equation?"
   ]
  },
  {
   "cell_type": "code",
   "execution_count": 5,
   "metadata": {},
   "outputs": [
    {
     "name": "stdout",
     "output_type": "stream",
     "text": [
      "Enter the first value: 8\n",
      "Enter the second value: 5\n",
      "Enter the third value: 9\n",
      "The solutions are : (-0.3125+1.0135796712641785j) (-0.3125-1.0135796712641785j)\n"
     ]
    }
   ],
   "source": [
    "import cmath\n",
    "\n",
    "a1 = float(input(\"Enter the first value: \"))\n",
    "a2 = float(input(\"Enter the second value: \"))\n",
    "a3 = float(input(\"Enter the third value: \"))\n",
    "\n",
    "d = (a2**2) - (4*a1*a3)\n",
    "\n",
    "ans1 = (-a2 + cmath.sqrt(d)) / (2*a1)\n",
    "ans2 = (-a2 - cmath.sqrt(d)) / (2*a1)\n",
    "\n",
    "print(\"The solutions are : {} {}\".format(ans1 , ans2))"
   ]
  },
  {
   "cell_type": "markdown",
   "metadata": {},
   "source": [
    "# Write a Python program to swap two variables without temp variable?"
   ]
  },
  {
   "cell_type": "code",
   "execution_count": 6,
   "metadata": {},
   "outputs": [
    {
     "name": "stdout",
     "output_type": "stream",
     "text": [
      "Enter your data:Lucifer\n",
      "Enter your data:Morningstar\n",
      "Data before swapping Lucifer,Morningstar\n",
      "Data after swapping Morningstar,Lucifer\n"
     ]
    }
   ],
   "source": [
    "var1 = input(\"Enter your data:\")\n",
    "var2 = input(\"Enter your data:\")\n",
    "print(\"Data before swapping {},{}\".format(var1,var2))\n",
    "\n",
    "var1,var2 = var2,var1\n",
    "\n",
    "print(\"Data after swapping {},{}\".format(var1,var2))"
   ]
  },
  {
   "cell_type": "code",
   "execution_count": null,
   "metadata": {},
   "outputs": [],
   "source": []
  },
  {
   "cell_type": "code",
   "execution_count": null,
   "metadata": {},
   "outputs": [],
   "source": []
  },
  {
   "cell_type": "code",
   "execution_count": null,
   "metadata": {},
   "outputs": [],
   "source": []
  },
  {
   "cell_type": "code",
   "execution_count": null,
   "metadata": {},
   "outputs": [],
   "source": []
  },
  {
   "cell_type": "code",
   "execution_count": null,
   "metadata": {},
   "outputs": [],
   "source": []
  },
  {
   "cell_type": "code",
   "execution_count": null,
   "metadata": {},
   "outputs": [],
   "source": []
  },
  {
   "cell_type": "code",
   "execution_count": null,
   "metadata": {},
   "outputs": [],
   "source": []
  },
  {
   "cell_type": "code",
   "execution_count": null,
   "metadata": {},
   "outputs": [],
   "source": []
  },
  {
   "cell_type": "code",
   "execution_count": null,
   "metadata": {},
   "outputs": [],
   "source": []
  },
  {
   "cell_type": "code",
   "execution_count": null,
   "metadata": {},
   "outputs": [],
   "source": []
  }
 ],
 "metadata": {
  "kernelspec": {
   "display_name": "Python 3",
   "language": "python",
   "name": "python3"
  },
  "language_info": {
   "codemirror_mode": {
    "name": "ipython",
    "version": 3
   },
   "file_extension": ".py",
   "mimetype": "text/x-python",
   "name": "python",
   "nbconvert_exporter": "python",
   "pygments_lexer": "ipython3",
   "version": "3.8.5"
  }
 },
 "nbformat": 4,
 "nbformat_minor": 4
}
