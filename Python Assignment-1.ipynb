{
 "cells": [
  {
   "cell_type": "markdown",
   "metadata": {},
   "source": [
    "1. In the below elements which of them are values or an expression? eg:- values can be integer or string and expressions will be mathematical operators.\n",
    "\n",
    "\n",
    "* -> \"*\" it is a mathematical operator of multiplication hence it is an expression\n",
    "\n",
    "'hello' -> it is a string and hence it is an value\n",
    "\n",
    "-87.8 -> it is an float and hence it is an value\n",
    "\n",
    "- -> \"-\" it is a mathematical operator of substraction hence it is an expression\n",
    "\n",
    "/ -> \"/\" it is a mathematical operator of divison hence it is an expression\n",
    "\n",
    "\n",
    "6 -> it is an integer and hence it is an value\n",
    "\n",
    "2. What is the difference between string and variable?\n",
    "Variable is used to store data in a memory location(e.g. Ram) or it is also called as reserved memory location to store values whereas string is a form of data which is stored in a variable.\n",
    "\n",
    "3. Describe three different data types.\n",
    "int - The integer datatype stores whole numbers basically integers are zero, positive or negative whole numbers without a fractional part. e.g 11, -11 \n",
    "\n",
    "boolean - The boolean datatype can only represent one of two values i.e True or False it is mostly used in some sort of comparison.\n",
    "\n",
    "string - A string is a sequence of unicode characters and it is represented in the quotation marks we can use single, double, or triple quotes to define a string. e.g. \"Hello World\"\n",
    "\n",
    "complex - complex numbers are written in the form of a+bj where a is real part and b is imaginary part.\n",
    "\n",
    "4. What is an expression made up of? What do all expressions do?\n",
    "An expression is made up of operators, operands and we can also say expression is an instruction that combines values and operators and always evaluates down to a single value for e.g 2+3+5 = 10\n",
    "\n",
    "\n",
    "5. This assignment statements, like spam = 10. What is the difference between an expression and a statement?\n",
    "expression is an instruction or a line of code that combines values and operators and always evaluates down to a single value e.g 7/3 or a+5 whereas an statement represents an action or command as shown in question like spam = 10 or add=a+b\n",
    "in this add= a+b is an statement and if we consider a+b only then it is an expression or other example is print statements.\n",
    "\n",
    "\n",
    "6. After running the following code, what does the variable bacon contain?\n",
    "bacon = 22\n",
    "bacon + 1\n",
    "\n",
    "After running the following statement bacon variable will contain 22 as we are adding 1 to bacon but not updating anything in bacon variable.\n",
    "\n",
    "7. What should the values of the following two terms be?\n",
    "'spam' + 'spamspam'\n",
    "'spam' * 3\n",
    "\n",
    "values should be 'spamspamspam'\n",
    "\n",
    "8. Why is eggs a valid variable name while 100 is invalid?\n",
    "Because it is present in the rules of python varibale naming that a variable name should not start with numbers or any special symbols and also keywords like for, while,etc.\n",
    "\n",
    "\n",
    "9. What three functions can be used to get the integer, floating-point number, or string version of a value?\n",
    "The int(), float(), and str() functions can be used to get the integer, floating-point number, or string version of a value.\n",
    "\n",
    "\n",
    "10. Why does this expression cause an error? How can you fix it?\n",
    "'I have eaten ' + 99 + ' burritos.'\n",
    "\n",
    "This expression causes error because we are here trying to add string datatype to integer datatype which is not possible to fix it we can change the datatype of integer value 99 to string as shown below:\n",
    "\n",
    "'I have eaten ' + str(99) + ' burritos.'\n"
   ]
  },
  {
   "cell_type": "code",
   "execution_count": 2,
   "metadata": {},
   "outputs": [
    {
     "data": {
      "text/plain": [
       "float"
      ]
     },
     "execution_count": 2,
     "metadata": {},
     "output_type": "execute_result"
    }
   ],
   "source": [
    "a = -87.8\n",
    "type(a)"
   ]
  },
  {
   "cell_type": "code",
   "execution_count": 3,
   "metadata": {},
   "outputs": [
    {
     "data": {
      "text/plain": [
       "int"
      ]
     },
     "execution_count": 3,
     "metadata": {},
     "output_type": "execute_result"
    }
   ],
   "source": [
    "b = -11\n",
    "type(b)"
   ]
  },
  {
   "cell_type": "code",
   "execution_count": 4,
   "metadata": {},
   "outputs": [
    {
     "data": {
      "text/plain": [
       "int"
      ]
     },
     "execution_count": 4,
     "metadata": {},
     "output_type": "execute_result"
    }
   ],
   "source": [
    "c = 0\n",
    "type(c)"
   ]
  },
  {
   "cell_type": "code",
   "execution_count": 7,
   "metadata": {},
   "outputs": [
    {
     "name": "stdout",
     "output_type": "stream",
     "text": [
      "22\n"
     ]
    }
   ],
   "source": [
    "bacon = 22\n",
    "bacon + 1\n",
    "\n",
    "print(bacon)"
   ]
  },
  {
   "cell_type": "code",
   "execution_count": 8,
   "metadata": {},
   "outputs": [
    {
     "data": {
      "text/plain": [
       "'spamspamspam'"
      ]
     },
     "execution_count": 8,
     "metadata": {},
     "output_type": "execute_result"
    }
   ],
   "source": [
    "'spam' + 'spamspam'\n"
   ]
  },
  {
   "cell_type": "code",
   "execution_count": 9,
   "metadata": {},
   "outputs": [
    {
     "data": {
      "text/plain": [
       "'spamspamspam'"
      ]
     },
     "execution_count": 9,
     "metadata": {},
     "output_type": "execute_result"
    }
   ],
   "source": [
    "'spam' * 3"
   ]
  },
  {
   "cell_type": "code",
   "execution_count": 10,
   "metadata": {},
   "outputs": [
    {
     "data": {
      "text/plain": [
       "'I have eaten 99 burritos.'"
      ]
     },
     "execution_count": 10,
     "metadata": {},
     "output_type": "execute_result"
    }
   ],
   "source": [
    "'I have eaten ' + str(99) + ' burritos.'"
   ]
  },
  {
   "cell_type": "code",
   "execution_count": null,
   "metadata": {},
   "outputs": [],
   "source": []
  }
 ],
 "metadata": {
  "kernelspec": {
   "display_name": "Python 3",
   "language": "python",
   "name": "python3"
  },
  "language_info": {
   "codemirror_mode": {
    "name": "ipython",
    "version": 3
   },
   "file_extension": ".py",
   "mimetype": "text/x-python",
   "name": "python",
   "nbconvert_exporter": "python",
   "pygments_lexer": "ipython3",
   "version": "3.8.5"
  }
 },
 "nbformat": 4,
 "nbformat_minor": 4
}
