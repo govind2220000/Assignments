{
 "cells": [
  {
   "cell_type": "markdown",
   "metadata": {},
   "source": [
    "Q-1. Write an SQL query to print the first three characters of  FIRST_NAME from Worker table.\n",
    "Ans. Select substring(FIRST_NAME,1,3) from Worker;\n",
    "\n",
    " Q-2. Write an SQL query to find the position of the alphabet (‘a’) in the first name column ‘Amitabh’ from Worker table.\n",
    " Ans. Select INSTR(FIRST_NAME, BINARY'a') from Worker where FIRST_NAME = 'Amitabh';\n",
    "\n",
    "Q-3. Write an SQL query to print the name of employees having the highest salary in each department.\n",
    "Ans. SELECT name,department, MAX(salary) FROM employees GROUP BY department;\n",
    " \n",
    "\n"
   ]
  }
 ],
 "metadata": {
  "language_info": {
   "name": "python"
  },
  "orig_nbformat": 4
 },
 "nbformat": 4,
 "nbformat_minor": 2
}
