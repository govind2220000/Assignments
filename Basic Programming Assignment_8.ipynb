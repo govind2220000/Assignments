{
 "cells": [
  {
   "cell_type": "markdown",
   "metadata": {},
   "source": [
    "# Write a Python Program to Add Two Matrices?\n"
   ]
  },
  {
   "cell_type": "code",
   "execution_count": 27,
   "metadata": {},
   "outputs": [
    {
     "name": "stdout",
     "output_type": "stream",
     "text": [
      "Enter the Number of rows : 3\n",
      "Enter the Number of Columns: 3\n",
      "Enter the elements of First Matrix:\n",
      "3\n",
      "3\n",
      "3\n",
      "3\n",
      "3\n",
      "3\n",
      "3\n",
      "3\n",
      "3\n",
      "First Matrix is: \n",
      "[3, 3, 3]\n",
      "[3, 3, 3]\n",
      "[3, 3, 3]\n",
      "Enter the elements of Second Matrix:\n",
      "3\n",
      "3\n",
      "3\n",
      "3\n",
      "3\n",
      "3\n",
      "3\n",
      "3\n",
      "3\n",
      "[3, 3, 3]\n",
      "[3, 3, 3]\n",
      "[3, 3, 3]\n",
      "The Sum of Above two Matrices is : \n",
      "[6, 6, 6]\n",
      "[6, 6, 6]\n",
      "[6, 6, 6]\n"
     ]
    }
   ],
   "source": [
    "rows = int(input(\"Enter the Number of rows : \" ))\n",
    "column = int(input(\"Enter the Number of Columns: \"))\n",
    "\n",
    "print(\"Enter the elements of First Matrix:\")\n",
    "matrix_a= [[int(input()) for i in range(column)] for i in range(rows)]\n",
    "print(\"First Matrix is: \")\n",
    "for n in matrix_a:\n",
    "    print(n)\n",
    "\n",
    "print(\"Enter the elements of Second Matrix:\")\n",
    "matrix_b= [[int(input()) for i in range(column)] for i in range(rows)]\n",
    "for n in matrix_b:\n",
    "    print(n)\n",
    "    \n",
    "result=[[0 for i in range(column)] for i in range(rows)]\n",
    "\n",
    "for i in range(rows):\n",
    "    for j in range(column):\n",
    "        result[i][j] = matrix_a[i][j]+matrix_b[i][j]\n",
    "\n",
    "print(\"The Sum of Above two Matrices is : \")\n",
    "for r in result:\n",
    "    print(r)"
   ]
  },
  {
   "cell_type": "markdown",
   "metadata": {},
   "source": [
    "# Write a Python Program to multiply Two Matrices"
   ]
  },
  {
   "cell_type": "code",
   "execution_count": 29,
   "metadata": {
    "scrolled": true
   },
   "outputs": [
    {
     "name": "stdout",
     "output_type": "stream",
     "text": [
      "Enter the Number of rows  for the first matrix: 2\n",
      "Enter the Number of Columns for the first matrix: 2\n",
      "Enter the elements of First Matrix:\n",
      "2\n",
      "2\n",
      "2\n",
      "2\n",
      "First Matrix is: \n",
      "[2, 2]\n",
      "[2, 2]\n",
      "Enter the Number of Columns for the second matrix: 2\n",
      "Enter the elements of Second Matrix:\n",
      "2\n",
      "2\n",
      "2\n",
      "2\n",
      "[2, 2]\n",
      "[2, 2]\n",
      "\n",
      "Matrix_a X Matrix_b is: \n",
      "[8, 8]\n",
      "[8, 8]\n"
     ]
    }
   ],
   "source": [
    "rows_a = int(input(\"Enter the Number of rows  for the first matrix: \" ))\n",
    "column_a = int(input(\"Enter the Number of Columns for the first matrix: \"))\n",
    "\n",
    "print(\"Enter the elements of First Matrix:\")\n",
    "matrix_a= [[int(input()) for i in range(column_a)] for i in range(rows_a)]\n",
    "\n",
    "print(\"First Matrix is: \")\n",
    "for n in matrix_a:\n",
    "    print(n)\n",
    "column_b = int(input(\"Enter the Number of Columns for the second matrix: \"))\n",
    "\n",
    "print(\"Enter the elements of Second Matrix:\")\n",
    "\n",
    "matrix_b= [[int(input()) for i in range(column_b)] for i in range(column_a)]\n",
    "for n in matrix_b:\n",
    "    print(n)\n",
    "    \n",
    "result=[[0 for i in range(column_b)] for i in range(rows_a)]\n",
    "\n",
    "for i in range(len(matrix_a)):\n",
    "    for j in range(len(matrix_b[0])):\n",
    "        for k in range(len(matrix_b)):\n",
    "            result [i][j]+=matrix_a[i][k]*matrix_b[k][j]\n",
    "print(\"\\nMatrix_a X Matrix_b is: \")\n",
    "for r in result:\n",
    "    print(r)"
   ]
  },
  {
   "cell_type": "markdown",
   "metadata": {},
   "source": [
    "# Write a Python Program to Transpose a Matrix?"
   ]
  },
  {
   "cell_type": "code",
   "execution_count": 7,
   "metadata": {},
   "outputs": [
    {
     "name": "stdout",
     "output_type": "stream",
     "text": [
      "[12, 4, 3]\n",
      "[7, 5, 8]\n"
     ]
    }
   ],
   "source": [
    "X = [[12,7],\n",
    "    [4 ,5],\n",
    "    [3 ,8]]\n",
    "\n",
    "result = [[0,0,0],\n",
    "         [0,0,0]]\n",
    "\n",
    "for i in range(len(X)):\n",
    "    for j in range(len(X[0])):\n",
    "        result[j][i] = X[i][j]\n",
    "\n",
    "for r in result:\n",
    "    print(r)"
   ]
  },
  {
   "cell_type": "markdown",
   "metadata": {},
   "source": [
    "# Write a Python Program to Sort Words in Alphabetic Order?"
   ]
  },
  {
   "cell_type": "code",
   "execution_count": 3,
   "metadata": {},
   "outputs": [
    {
     "name": "stdout",
     "output_type": "stream",
     "text": [
      "Enter your data:In this program, we store the string to be sorted\n",
      "The sorted words are:\n",
      "be\n",
      "in\n",
      "program,\n",
      "sorted\n",
      "store\n",
      "string\n",
      "the\n",
      "this\n",
      "to\n",
      "we\n"
     ]
    }
   ],
   "source": [
    "my_str = input(\"Enter your data:\")\n",
    "\n",
    "words = [] \n",
    "for word in my_str.split():\n",
    "    words.append(word.lower())\n",
    "\n",
    "# sort the list\n",
    "words.sort()\n",
    "\n",
    "# display the sorted words\n",
    "\n",
    "print(\"The sorted words are:\")\n",
    "for word in words:\n",
    "    print(word)\n"
   ]
  },
  {
   "cell_type": "markdown",
   "metadata": {},
   "source": [
    "# Write a Python Program to Remove Punctuation From a String?"
   ]
  },
  {
   "cell_type": "code",
   "execution_count": 6,
   "metadata": {},
   "outputs": [
    {
     "name": "stdout",
     "output_type": "stream",
     "text": [
      "Enter your data:Hello!!!, he said ---and went.\n",
      "Hello he said and went\n"
     ]
    }
   ],
   "source": [
    "my_str = input(\"Enter your data:\")\n",
    "\n",
    "punctuations = '''!()-[]{};:'\"\\,<>./?@#$%^&*_~'''\n",
    "\n",
    "\n",
    "no_punct = \"\"\n",
    "for char in my_str:\n",
    "    if char not in punctuations:\n",
    "        no_punct = no_punct + char\n",
    "\n",
    "# display the unpunctuated string\n",
    "print(no_punct)\n"
   ]
  }
 ],
 "metadata": {
  "kernelspec": {
   "display_name": "Python 3",
   "language": "python",
   "name": "python3"
  },
  "language_info": {
   "codemirror_mode": {
    "name": "ipython",
    "version": 3
   },
   "file_extension": ".py",
   "mimetype": "text/x-python",
   "name": "python",
   "nbconvert_exporter": "python",
   "pygments_lexer": "ipython3",
   "version": "3.8.5"
  }
 },
 "nbformat": 4,
 "nbformat_minor": 4
}
