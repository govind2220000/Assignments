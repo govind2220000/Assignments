{
 "cells": [
  {
   "cell_type": "markdown",
   "metadata": {},
   "source": [
    "# Q-13. Write an SQL query to show only odd rows from a table.\n",
    "Ans. Select * from table where id % 2 = 1;\n",
    "\n",
    "# Q-14. Write an SQL query to clone a new table from another table.\n",
    "Ans. CREATE TABLE table_name AS SELECT * FROM table_name;;\n"
   ]
  }
 ],
 "metadata": {
  "interpreter": {
   "hash": "c58b8a724218bdb10f6d6531e7b61d6abdedeedc5a7749bb21afeaa1c650a9bb"
  },
  "kernelspec": {
   "display_name": "Python 3.8.5 64-bit",
   "language": "python",
   "name": "python3"
  },
  "language_info": {
   "name": "python",
   "version": "3.8.5"
  },
  "orig_nbformat": 4
 },
 "nbformat": 4,
 "nbformat_minor": 2
}
