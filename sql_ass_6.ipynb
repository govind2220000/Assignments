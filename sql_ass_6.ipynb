{
 "cells": [
  {
   "cell_type": "markdown",
   "metadata": {},
   "source": [
    "Q-1. Write an SQL query to print details of the Workers who have joined in Feb’2014.\n",
    "Ans. select * from worker where hire_date between '2014-02-01' and '2014-02-28' order by hire_date;\n",
    "\n",
    "Q-2. Write an SQL query to fetch duplicate records having matching data in some fields of a table.\n",
    "Ans. select first_name ,current_location, count(*) as cnt from worker group by first_name, current_location having count(*)>1;\n",
    "\n",
    "Q-3. How to remove duplicate rows from Employees table.\n",
    "Ans. with employeeCTE as \n",
    "(\n",
    "\tselect *, ROW_NUMBER() over(partition by first_name order by first_name) as rownumber\n",
    "\tfrom workers\n",
    ")\n",
    "\n",
    "delete from employeeCTE where rownumber > 1\n",
    "select * from workers;\n",
    "\n"
   ]
  }
 ],
 "metadata": {
  "language_info": {
   "name": "python"
  },
  "orig_nbformat": 4
 },
 "nbformat": 4,
 "nbformat_minor": 2
}
